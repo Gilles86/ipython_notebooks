{
 "metadata": {
  "name": "",
  "signature": "sha256:960be62fb441717aba307d39817bc8966a75fcdcd5ac9246c29e82e81b2ee12a"
 },
 "nbformat": 3,
 "nbformat_minor": 0,
 "worksheets": [
  {
   "cells": [
    {
     "cell_type": "code",
     "collapsed": false,
     "input": [
      "from nipype.interfaces import mipav"
     ],
     "language": "python",
     "metadata": {},
     "outputs": [],
     "prompt_number": 15
    },
    {
     "cell_type": "code",
     "collapsed": false,
     "input": [
      "import nipype.interfaces.mipav.gilles"
     ],
     "language": "python",
     "metadata": {},
     "outputs": [],
     "prompt_number": 16
    },
    {
     "cell_type": "code",
     "collapsed": false,
     "input": [
      "from nipype.interfaces.mipav.developer import *"
     ],
     "language": "python",
     "metadata": {},
     "outputs": [],
     "prompt_number": 17
    },
    {
     "cell_type": "code",
     "collapsed": false,
     "input": [
      "skullstrip = mipav.gilles.JistBrainMp2rageSkullStripping()\n",
      "skullstrip.inputs.inSecond = '/home/gdholla1/data/leipzig/mri/KP6T/session1_zoomed_in/S4_mp2rage_whole_brain_INV2.nii'\n",
      "skullstrip.inputs.inFilter = '/home/gdholla1/data/leipzig/mri/KP6T/session1_zoomed_in/S7_mp2rage_whole_brain_UNI_Images.nii'\n",
      "skullstrip.inputs.inT1weighted = '/home/gdholla1/data/leipzig/mri/KP6T/session1_zoomed_in/S6_mp2rage_whole_brain_T1_Images.nii'\n",
      "skullstrip.inputs.outBrain = True"
     ],
     "language": "python",
     "metadata": {},
     "outputs": [],
     "prompt_number": 18
    },
    {
     "cell_type": "code",
     "collapsed": false,
     "input": [
      "skullstrip.cmdline"
     ],
     "language": "python",
     "metadata": {},
     "outputs": [
      {
       "metadata": {},
       "output_type": "pyout",
       "prompt_number": 19,
       "text": [
        "'/home/gdholla1/mipav/jre/bin/java -classpath /home/gdholla1/mipav/plugins/:/home/gdholla1/mipav/:/home/gdholla1/mipav/Uninstall-MIPAV/uninstaller.jar:/home/gdholla1/mipav/lib/jaxp/xalan.jar:/home/gdholla1/mipav/lib/jaxp/xercesImpl.jar:/home/gdholla1/mipav/lib/jaxp/dom.jar:/home/gdholla1/mipav/lib/jaxp/sax.jar:/home/gdholla1/mipav/lib/bcprov-jdk15-136.jar:/home/gdholla1/mipav/lib/mail.jar:/home/gdholla1/mipav/lib/policy.jar:/home/gdholla1/mipav/lib/jdom.jar:/home/gdholla1/mipav/lib/jj2kpack.jar:/home/gdholla1/mipav/lib/core_dictionary-4.1.1.8.jar:/home/gdholla1/mipav/lib/javax.persistence.jar:/home/gdholla1/mipav/lib/hyperapplet.jar:/home/gdholla1/mipav/lib/jaxb-api.jar:/home/gdholla1/mipav/lib/fitbir-model.jar:/home/gdholla1/mipav/lib/jhall.jar:/home/gdholla1/mipav/lib/stax-ex.jar:/home/gdholla1/mipav/lib/WildMagic.jar:/home/gdholla1/mipav/lib/camino.jar:/home/gdholla1/mipav/lib/jaxb-impl.jar:/home/gdholla1/mipav/lib/jTEM.jar:/home/gdholla1/mipav/lib/activation.jar:/home/gdholla1/mipav/lib/saaj-impl.jar:/home/gdholla1/mipav/lib/JimiProClasses.jar:/home/gdholla1/mipav/lib/tar.jar:/home/gdholla1/mipav/lib/fontbox-1.2.0.jar:/home/gdholla1/mipav/lib/log4j-1.2.16.jar:/home/gdholla1/mipav/lib/dataDictionaryClient-4.1.1.8.jar:/home/gdholla1/mipav/lib/streambuffer.jar:/home/gdholla1/mipav/lib/jaxws-rt.jar:/home/gdholla1/mipav/lib/ij.jar:/home/gdholla1/mipav/lib/jax-qname.jar:/home/gdholla1/mipav/lib/gmbal-api-only.jar:/home/gdholla1/mipav/lib/javac.jar:/home/gdholla1/mipav/lib/pdfbox-1.2.0.jar:/home/gdholla1/mipav/lib/jempbox-1.2.0.jar:/home/gdholla1/mipav/lib/fitbir-web-service.jar:/home/gdholla1/mipav/lib/ACCESSION_client_VTool.jar:/home/gdholla1/mipav/lib/junit-4.4.jar:/home/gdholla1/mipav/jre/lib/resources.jar:/home/gdholla1/mipav/jre/lib/charsets.jar:/home/gdholla1/mipav/jre/lib/alt-rt.jar:/home/gdholla1/mipav/jre/lib/deploy.jar:/home/gdholla1/mipav/jre/lib/rt.jar:/home/gdholla1/mipav/jre/lib/jsse.jar:/home/gdholla1/mipav/jre/lib/jce.jar:/home/gdholla1/mipav/jre/lib/management-agent.jar:/home/gdholla1/mipav/jre/lib/alt-string.jar:/home/gdholla1/mipav/jre/lib/javaws.jar:/home/gdholla1/mipav/jre/lib/ext/jogl.all-mobile.jar:/home/gdholla1/mipav/jre/lib/ext/joal-test.jar:/home/gdholla1/mipav/jre/lib/ext/newt.event.jar:/home/gdholla1/mipav/jre/lib/ext/j3dcore.jar:/home/gdholla1/mipav/jre/lib/ext/sunjce_provider.jar:/home/gdholla1/mipav/jre/lib/ext/jogl.all-noawt.jar:/home/gdholla1/mipav/jre/lib/ext/customizer.jar:/home/gdholla1/mipav/jre/lib/ext/multiplayer.jar:/home/gdholla1/mipav/jre/lib/ext/jhdfobj.jar:/home/gdholla1/mipav/jre/lib/ext/gluegen.jar:/home/gdholla1/mipav/jre/lib/ext/gluegen-rt.jar:/home/gdholla1/mipav/jre/lib/ext/jocl.jar:/home/gdholla1/mipav/jre/lib/ext/joal.jar:/home/gdholla1/mipav/jre/lib/ext/vecmath.jar:/home/gdholla1/mipav/jre/lib/ext/JOCL-0.1.7.jar:/home/gdholla1/mipav/jre/lib/ext/mediaplayer.jar:/home/gdholla1/mipav/jre/lib/ext/jhdf5obj.jar:/home/gdholla1/mipav/jre/lib/ext/jogl.all.jar:/home/gdholla1/mipav/jre/lib/ext/jogl.test.jar:/home/gdholla1/mipav/jre/lib/ext/sunpkcs11.jar:/home/gdholla1/mipav/jre/lib/ext/j3dutils.jar:/home/gdholla1/mipav/jre/lib/ext/jmf.jar:/home/gdholla1/mipav/jre/lib/ext/jhdf5.jar:/home/gdholla1/mipav/jre/lib/ext/dnsns.jar:/home/gdholla1/mipav/jre/lib/ext/localedata.jar:/home/gdholla1/mipav/jre/lib/im/thaiim.jar:/home/gdholla1/mipav/jre/lib/im/indicim.jar:/home/gdholla1/mipav/jre/lib/security/local_policy.jar:/home/gdholla1/mipav/jre/lib/security/US_export_policy.jar:/home/gdholla1/mipav/jre/lib/plugin.jar:/home/gdholla1/mipav/plugins/methods/methods.jar:/home/gdholla1/mipav/plugins/library/nativewindow.all.jar:/home/gdholla1/mipav/plugins/library/gluegen-rt.jar:/home/gdholla1/mipav/plugins/library/jogl.all.jar:/home/gdholla1/mipav/help/mipav_help.jar:/home/gdholla1/mipav/lax.jar:/home/gdholla1/mipav/InsightToolkit/lib/InsightToolkit/InsightToolkit.jar edu.jhu.ece.iacl.jist.cli.run de.mpg.cbs.jist.brain.JistBrainMp2rageSkullStripping  --inFilter /home/gdholla1/data/leipzig/mri/KP6T/session1_zoomed_in/S7_mp2rage_whole_brain_UNI_Images.nii --inInv2 /home/gdholla1/data/leipzig/mri/KP6T/session1_zoomed_in/S4_mp2rage_whole_brain_INV2.nii --inT1weighted /home/gdholla1/data/leipzig/mri/KP6T/session1_zoomed_in/S6_mp2rage_whole_brain_T1_Images.nii --outBrain /home/gdholla1/notebooks/outBrain.nii -xMaxProcess 1'"
       ]
      }
     ],
     "prompt_number": 19
    },
    {
     "cell_type": "code",
     "collapsed": false,
     "input": [
      "skullstrip.inputs"
     ],
     "language": "python",
     "metadata": {},
     "outputs": [
      {
       "metadata": {},
       "output_type": "pyout",
       "prompt_number": 7,
       "text": [
        "\n",
        "args = <undefined>\n",
        "environ = {}\n",
        "ignore_exception = False\n",
        "inFilter = /home/gdholla1/data/leipzig/mri/KP6T/session1_zoomed_in/S7_mp2rage_whole_brain_UNI_Images.nii\n",
        "inSecond = /home/gdholla1/data/leipzig/mri/KP6T/session1_zoomed_in/S4_mp2rage_whole_brain_INV2.nii\n",
        "inSkip = <undefined>\n",
        "inT1 = <undefined>\n",
        "inT1weighted = /home/gdholla1/data/leipzig/mri/KP6T/session1_zoomed_in/S6_mp2rage_whole_brain_T1_Images.nii\n",
        "null = <undefined>\n",
        "outBrain = True\n",
        "outMasked = <undefined>\n",
        "outMasked2 = <undefined>\n",
        "outMasked3 = <undefined>\n",
        "terminal_output = stream\n",
        "xDefaultMem = <undefined>\n",
        "xMaxProcess = 1\n",
        "xPrefExt = <undefined>"
       ]
      }
     ],
     "prompt_number": 7
    },
    {
     "cell_type": "code",
     "collapsed": false,
     "input": [
      "r = skullstrip.run()"
     ],
     "language": "python",
     "metadata": {},
     "outputs": [
      {
       "output_type": "stream",
       "stream": "stderr",
       "text": [
        "INFO:interface:stderr 2014-10-08T11:20:20.836197:Could not find library, using working directory /home/gdholla1/jist-lib\n"
       ]
      },
      {
       "output_type": "stream",
       "stream": "stderr",
       "text": [
        "INFO:interface:stdout 2014-10-08T11:20:20.884448:cli\t####################################################################\n"
       ]
      },
      {
       "output_type": "stream",
       "stream": "stderr",
       "text": [
        "INFO:interface:stdout 2014-10-08T11:20:20.884448:cli\tInitializing MIPAV/JIST Framework\n"
       ]
      },
      {
       "output_type": "stream",
       "stream": "stderr",
       "text": [
        "INFO:interface:stdout 2014-10-08T11:20:20.902357:MIPAV STARTED with forceQuite set as true\n"
       ]
      },
      {
       "output_type": "stream",
       "stream": "stderr",
       "text": [
        "INFO:interface:stdout 2014-10-08T11:20:21.345067:cli\t####################################################################\n"
       ]
      },
      {
       "output_type": "stream",
       "stream": "stderr",
       "text": [
        "INFO:interface:stdout 2014-10-08T11:20:21.345067:cli\tInterpretting command line arguments\n"
       ]
      },
      {
       "output_type": "stream",
       "stream": "stderr",
       "text": [
        "INFO:interface:stdout 2014-10-08T11:20:21.346911:cli\t####################################################################\n"
       ]
      },
      {
       "output_type": "stream",
       "stream": "stderr",
       "text": [
        "INFO:interface:stdout 2014-10-08T11:20:21.346911:de.mpg.cbs.jist.brain.JistBrainMp2rageSkullStripping\n"
       ]
      },
      {
       "output_type": "stream",
       "stream": "stderr",
       "text": [
        "INFO:interface:stdout 2014-10-08T11:20:21.346911:\toutExecution = <default> = \n"
       ]
      },
      {
       "output_type": "stream",
       "stream": "stderr",
       "text": [
        "INFO:interface:stdout 2014-10-08T11:20:21.346911:\tinSkip = <default> = false\n"
       ]
      },
      {
       "output_type": "stream",
       "stream": "stderr",
       "text": [
        "INFO:interface:stdout 2014-10-08T11:20:21.346911:\tinFilter = /home/gdholla1/data/leipzig/mri/KP6T/session1_zoomed_in/S7_mp2rage_whole_brain_UNI_Images.nii = /home/gdholla1/data/leipzig/mri/KP6T/session1_zoomed_in/S7_mp2rage_whole_brain_UNI_Images.nii\n"
       ]
      },
      {
       "output_type": "stream",
       "stream": "stderr",
       "text": [
        "INFO:interface:stdout 2014-10-08T11:20:21.346911:\toutMasked2 = <default> = Masked T1-weighted Image\n"
       ]
      },
      {
       "output_type": "stream",
       "stream": "stderr",
       "text": [
        "INFO:interface:stdout 2014-10-08T11:20:21.346911:\tinInv2 = /home/gdholla1/data/leipzig/mri/KP6T/session1_zoomed_in/S4_mp2rage_whole_brain_INV2.nii = /home/gdholla1/data/leipzig/mri/KP6T/session1_zoomed_in/S4_mp2rage_whole_brain_INV2.nii\n"
       ]
      },
      {
       "output_type": "stream",
       "stream": "stderr",
       "text": [
        "INFO:interface:stdout 2014-10-08T11:20:21.346911:\tinT1weighted = /home/gdholla1/data/leipzig/mri/KP6T/session1_zoomed_in/S6_mp2rage_whole_brain_T1_Images.nii = /home/gdholla1/data/leipzig/mri/KP6T/session1_zoomed_in/S6_mp2rage_whole_brain_T1_Images.nii\n"
       ]
      },
      {
       "output_type": "stream",
       "stream": "stderr",
       "text": [
        "INFO:interface:stdout 2014-10-08T11:20:21.346911:\toutBrain = /home/gdholla1/notebooks/outBrain.nii = /home/gdholla1/notebooks/outBrain.nii\n"
       ]
      },
      {
       "output_type": "stream",
       "stream": "stderr",
       "text": [
        "INFO:interface:stdout 2014-10-08T11:20:21.346911:\toutMasked3 = <default> = Masked Filter Image\n"
       ]
      },
      {
       "output_type": "stream",
       "stream": "stderr",
       "text": [
        "INFO:interface:stdout 2014-10-08T11:20:21.346911:\tinT1 = <default> = T1 Map Image\n"
       ]
      },
      {
       "output_type": "stream",
       "stream": "stderr",
       "text": [
        "INFO:interface:stdout 2014-10-08T11:20:21.346911:\toutMasked = <default> = Masked T1 Map Image\n"
       ]
      },
      {
       "output_type": "stream",
       "stream": "stderr",
       "text": [
        "INFO:interface:stdout 2014-10-08T11:20:21.346911:\toutProc = /home/gdholla1/notebooks\n"
       ]
      },
      {
       "output_type": "stream",
       "stream": "stderr",
       "text": [
        "INFO:interface:stdout 2014-10-08T11:20:21.346911:\toutResult = output.txt\n"
       ]
      },
      {
       "output_type": "stream",
       "stream": "stderr",
       "text": [
        "INFO:interface:stdout 2014-10-08T11:20:21.346911:cli\t####################################################################\n"
       ]
      },
      {
       "output_type": "stream",
       "stream": "stderr",
       "text": [
        "INFO:interface:stdout 2014-10-08T11:20:22.928623:edu.jhu.ece.iacl.jist.structures.image.ImageDataFloat\tImageDataFloat: 0New image:256x256x176x1\n"
       ]
      },
      {
       "output_type": "stream",
       "stream": "stderr",
       "text": [
        "INFO:interface:stdout 2014-10-08T11:20:23.594479:edu.jhu.ece.iacl.jist.structures.image.ImageDataFloat\tImageDataFloat: 1New image:256x256x176x1\n"
       ]
      },
      {
       "output_type": "stream",
       "stream": "stderr",
       "text": [
        "INFO:interface:stdout 2014-10-08T11:20:24.281982:edu.jhu.ece.iacl.jist.structures.image.ImageDataFloat\tImageDataFloat: 2New image:256x256x176x1\n"
       ]
      },
      {
       "output_type": "stream",
       "stream": "stderr",
       "text": [
        "INFO:interface:stdout 2014-10-08T11:20:28.052105:image range: 0.0, 1499.0\n"
       ]
      },
      {
       "output_type": "stream",
       "stream": "stderr",
       "text": [
        "INFO:interface:stdout 2014-10-08T11:20:28.103567:mean parameters: 0.05102058095562509\n"
       ]
      },
      {
       "output_type": "stream",
       "stream": "stderr",
       "text": [
        "INFO:interface:stdout 2014-10-08T11:20:28.773433:iteration 1\n"
       ]
      },
      {
       "output_type": "stream",
       "stream": "stderr",
       "text": [
        "INFO:interface:stdout 2014-10-08T11:20:28.793751:mean parameters: 0.02495016508806164\n"
       ]
      },
      {
       "output_type": "stream",
       "stream": "stderr",
       "text": [
        "INFO:interface:stdout 2014-10-08T11:20:28.796308:diff parameters: 0.026070415867563448\n"
       ]
      },
      {
       "output_type": "stream",
       "stream": "stderr",
       "text": [
        "INFO:interface:stdout 2014-10-08T11:20:29.833239:iteration 2\n"
       ]
      },
      {
       "output_type": "stream",
       "stream": "stderr",
       "text": [
        "INFO:interface:stdout 2014-10-08T11:20:29.856389:mean parameters: 0.013559674465951167\n"
       ]
      },
      {
       "output_type": "stream",
       "stream": "stderr",
       "text": [
        "INFO:interface:stdout 2014-10-08T11:20:29.856767:diff parameters: 0.011390490622110474\n"
       ]
      },
      {
       "output_type": "stream",
       "stream": "stderr",
       "text": [
        "INFO:interface:stdout 2014-10-08T11:20:30.924657:iteration 3\n"
       ]
      },
      {
       "output_type": "stream",
       "stream": "stderr",
       "text": [
        "INFO:interface:stdout 2014-10-08T11:20:30.946159:mean parameters: 0.009698280057654995\n"
       ]
      },
      {
       "output_type": "stream",
       "stream": "stderr",
       "text": [
        "INFO:interface:stdout 2014-10-08T11:20:30.946159:diff parameters: 0.003861394408296172\n"
       ]
      },
      {
       "output_type": "stream",
       "stream": "stderr",
       "text": [
        "INFO:interface:stdout 2014-10-08T11:20:32.033618:iteration 4\n"
       ]
      },
      {
       "output_type": "stream",
       "stream": "stderr",
       "text": [
        "INFO:interface:stdout 2014-10-08T11:20:32.055133:mean parameters: 0.008623307046790124\n"
       ]
      },
      {
       "output_type": "stream",
       "stream": "stderr",
       "text": [
        "INFO:interface:stdout 2014-10-08T11:20:32.055784:diff parameters: 0.0010749730108648714\n"
       ]
      },
      {
       "output_type": "stream",
       "stream": "stderr",
       "text": [
        "INFO:interface:stdout 2014-10-08T11:20:33.159937:iteration 5\n"
       ]
      },
      {
       "output_type": "stream",
       "stream": "stderr",
       "text": [
        "INFO:interface:stdout 2014-10-08T11:20:33.181471:mean parameters: 0.008308390993678324\n"
       ]
      },
      {
       "output_type": "stream",
       "stream": "stderr",
       "text": [
        "INFO:interface:stdout 2014-10-08T11:20:33.182087:diff parameters: 3.1491605311179983E-4\n"
       ]
      },
      {
       "output_type": "stream",
       "stream": "stderr",
       "text": [
        "INFO:interface:stdout 2014-10-08T11:20:34.287089:iteration 6\n"
       ]
      },
      {
       "output_type": "stream",
       "stream": "stderr",
       "text": [
        "INFO:interface:stdout 2014-10-08T11:20:34.308539:mean parameters: 0.008212212609716494\n"
       ]
      },
      {
       "output_type": "stream",
       "stream": "stderr",
       "text": [
        "INFO:interface:stdout 2014-10-08T11:20:34.309467:diff parameters: 9.617838396182993E-5\n"
       ]
      },
      {
       "output_type": "stream",
       "stream": "stderr",
       "text": [
        "INFO:interface:stdout 2014-10-08T11:20:35.645580:background-based skull strippingimage: [4.9592734E-5, 0.9918051]\n"
       ]
      },
      {
       "output_type": "stream",
       "stream": "stderr",
       "text": [
        "INFO:interface:stdout 2014-10-08T11:20:35.646195:scaled dimensions: 16 x 16 x 11\n"
       ]
      },
      {
       "output_type": "stream",
       "stream": "stderr",
       "text": [
        "INFO:interface:stdout 2014-10-08T11:20:35.878608:min obj size: 2816\n"
       ]
      },
      {
       "output_type": "stream",
       "stream": "stderr",
       "text": [
        "INFO:interface:stdout 2014-10-08T11:20:35.879032:max obj size: 278\n"
       ]
      },
      {
       "output_type": "stream",
       "stream": "stderr",
       "text": [
        "INFO:interface:stdout 2014-10-08T11:20:35.879412:rng obj size: 1886\n"
       ]
      },
      {
       "output_type": "stream",
       "stream": "stderr",
       "text": [
        "INFO:interface:stdout 2014-10-08T11:20:35.880508:and obj size: 278\n"
       ]
      },
      {
       "output_type": "stream",
       "stream": "stderr",
       "text": [
        "INFO:interface:stdout 2014-10-08T11:20:35.907957:main obj size: 280\n"
       ]
      },
      {
       "output_type": "stream",
       "stream": "stderr",
       "text": [
        "INFO:interface:stdout 2014-10-08T11:20:35.913368:boundary size: 228\n"
       ]
      },
      {
       "output_type": "stream",
       "stream": "stderr",
       "text": [
        "INFO:interface:stdout 2014-10-08T11:20:35.922707:scaled dimensions: 32 x 32 x 22\n"
       ]
      },
      {
       "output_type": "stream",
       "stream": "stderr",
       "text": [
        "INFO:interface:stdout 2014-10-08T11:20:36.187940:scaled dimensions: 64 x 64 x 44\n"
       ]
      },
      {
       "output_type": "stream",
       "stream": "stderr",
       "text": [
        "INFO:interface:stdout 2014-10-08T11:20:36.560204:edu.jhu.ece.iacl.jist.structures.image.ImageDataFloat\tImageDataFloat: 2Free image:S7_mp2rage_whole_brain_UNI_Images\n"
       ]
      },
      {
       "output_type": "stream",
       "stream": "stderr",
       "text": [
        "INFO:interface:stdout 2014-10-08T11:20:36.560204:edu.jhu.ece.iacl.jist.structures.image.ImageDataFloat\tImageDataFloat: 1Free image:S6_mp2rage_whole_brain_T1_Images\n"
       ]
      },
      {
       "output_type": "stream",
       "stream": "stderr",
       "text": [
        "INFO:interface:stdout 2014-10-08T11:20:36.561505:edu.jhu.ece.iacl.jist.structures.image.ImageDataFloat\tImageDataFloat: 0Free image:S4_mp2rage_whole_brain_INV2\n"
       ]
      },
      {
       "output_type": "stream",
       "stream": "stderr",
       "text": [
        "INFO:interface:stdout 2014-10-08T11:20:36.824040:scaled dimensions: 128 x 128 x 88\n"
       ]
      },
      {
       "output_type": "stream",
       "stream": "stderr",
       "text": [
        "INFO:interface:stdout 2014-10-08T11:20:41.865669:region size: 2049984\n"
       ]
      },
      {
       "output_type": "stream",
       "stream": "stderr",
       "text": [
        "INFO:interface:stdout 2014-10-08T11:20:43.053107:LUT loaded from: file:/home/gdholla1/mipav/plugins/de/mpg/cbs/structures/critical66LUT.raw.gz\n"
       ]
      },
      {
       "output_type": "stream",
       "stream": "stderr",
       "text": [
        "INFO:interface:stdout 2014-10-08T11:20:43.273975:initialization\n"
       ]
      },
      {
       "output_type": "stream",
       "stream": "stderr",
       "text": [
        "INFO:interface:stdout 2014-10-08T11:20:43.274631:fast marching init\n"
       ]
      },
      {
       "output_type": "stream",
       "stream": "stderr",
       "text": [
        "INFO:interface:stdout 2014-10-08T11:20:45.026996:init\n"
       ]
      },
      {
       "output_type": "stream",
       "stream": "stderr",
       "text": [
        "INFO:interface:stdout 2014-10-08T11:20:54.955197:done\n"
       ]
      },
      {
       "output_type": "stream",
       "stream": "stderr",
       "text": [
        "INFO:interface:stdout 2014-10-08T11:20:54.999899:GDM forces: 0.0 (field), 0.1 (balloon), 0.9 (smoothing)\n"
       ]
      },
      {
       "output_type": "stream",
       "stream": "stderr",
       "text": [
        "INFO:interface:stdout 2014-10-08T11:20:55.698676:LUT loaded from: file:/home/gdholla1/mipav/plugins/de/mpg/cbs/structures/critical66LUT.raw.gz\n"
       ]
      },
      {
       "output_type": "stream",
       "stream": "stderr",
       "text": [
        "INFO:interface:stdout 2014-10-08T11:20:55.699317:initial GDM decomposition\n"
       ]
      },
      {
       "output_type": "stream",
       "stream": "stderr",
       "text": [
        "INFO:interface:stdout 2014-10-08T11:20:55.962001:fast marching\n"
       ]
      },
      {
       "output_type": "stream",
       "stream": "stderr",
       "text": [
        "INFO:interface:stdout 2014-10-08T11:20:56.301772:init\n"
       ]
      },
      {
       "output_type": "stream",
       "stream": "stderr",
       "text": [
        "INFO:interface:stdout 2014-10-08T11:21:10.551795:done\n"
       ]
      },
      {
       "output_type": "stream",
       "stream": "stderr",
       "text": [
        "INFO:interface:stdout 2014-10-08T11:21:10.552387:initialization\n"
       ]
      },
      {
       "output_type": "stream",
       "stream": "stderr",
       "text": [
        "INFO:interface:stdout 2014-10-08T11:21:10.552387:level set evolution: narrow band\n"
       ]
      },
      {
       "output_type": "stream",
       "stream": "stderr",
       "text": [
        "INFO:interface:stdout 2014-10-08T11:21:10.642527:init (1353272)\n"
       ]
      },
      {
       "output_type": "stream",
       "stream": "stderr",
       "text": [
        "INFO:interface:stdout 2014-10-08T11:21:10.771049:iteration 0\n"
       ]
      },
      {
       "output_type": "stream",
       "stream": "stderr",
       "text": [
        "INFO:interface:stdout 2014-10-08T11:21:10.968725:changed labels: 3234\n"
       ]
      },
      {
       "output_type": "stream",
       "stream": "stderr",
       "text": [
        "INFO:interface:stdout 2014-10-08T11:21:10.975238:iteration 1\n"
       ]
      },
      {
       "output_type": "stream",
       "stream": "stderr",
       "text": [
        "INFO:interface:stdout 2014-10-08T11:21:11.127873:changed labels: 9607\n"
       ]
      },
      {
       "output_type": "stream",
       "stream": "stderr",
       "text": [
        "INFO:interface:stdout 2014-10-08T11:21:11.135029:iteration 2\n"
       ]
      },
      {
       "output_type": "stream",
       "stream": "stderr",
       "text": [
        "INFO:interface:stdout 2014-10-08T11:21:11.281653:changed labels: 4562\n"
       ]
      },
      {
       "output_type": "stream",
       "stream": "stderr",
       "text": [
        "INFO:interface:stdout 2014-10-08T11:21:11.287681:iteration 3\n"
       ]
      },
      {
       "output_type": "stream",
       "stream": "stderr",
       "text": [
        "INFO:interface:stdout 2014-10-08T11:21:11.431409:changed labels: 4510\n"
       ]
      },
      {
       "output_type": "stream",
       "stream": "stderr",
       "text": [
        "INFO:interface:stdout 2014-10-08T11:21:11.437864:iteration 4\n"
       ]
      },
      {
       "output_type": "stream",
       "stream": "stderr",
       "text": [
        "INFO:interface:stdout 2014-10-08T11:21:11.581141:changed labels: 4428\n"
       ]
      },
      {
       "output_type": "stream",
       "stream": "stderr",
       "text": [
        "INFO:interface:stdout 2014-10-08T11:21:11.587094:iteration 5\n"
       ]
      },
      {
       "output_type": "stream",
       "stream": "stderr",
       "text": [
        "INFO:interface:stdout 2014-10-08T11:21:11.729051:changed labels: 4019\n"
       ]
      },
      {
       "output_type": "stream",
       "stream": "stderr",
       "text": [
        "INFO:interface:stdout 2014-10-08T11:21:11.735478:iteration 6\n"
       ]
      },
      {
       "output_type": "stream",
       "stream": "stderr",
       "text": [
        "INFO:interface:stdout 2014-10-08T11:21:11.878011:changed labels: 4216\n"
       ]
      },
      {
       "output_type": "stream",
       "stream": "stderr",
       "text": [
        "INFO:interface:stdout 2014-10-08T11:21:11.883982:iteration 7\n"
       ]
      },
      {
       "output_type": "stream",
       "stream": "stderr",
       "text": [
        "INFO:interface:stdout 2014-10-08T11:21:12.025651:changed labels: 4088\n"
       ]
      },
      {
       "output_type": "stream",
       "stream": "stderr",
       "text": [
        "INFO:interface:stdout 2014-10-08T11:21:12.031637:iteration 8\n"
       ]
      },
      {
       "output_type": "stream",
       "stream": "stderr",
       "text": [
        "INFO:interface:stdout 2014-10-08T11:21:12.173005:changed labels: 4044\n"
       ]
      },
      {
       "output_type": "stream",
       "stream": "stderr",
       "text": [
        "INFO:interface:stdout 2014-10-08T11:21:12.178951:iteration 9\n"
       ]
      },
      {
       "output_type": "stream",
       "stream": "stderr",
       "text": [
        "INFO:interface:stdout 2014-10-08T11:21:12.320850:changed labels: 4412\n"
       ]
      },
      {
       "output_type": "stream",
       "stream": "stderr",
       "text": [
        "INFO:interface:stdout 2014-10-08T11:21:12.327264:iteration 10\n"
       ]
      },
      {
       "output_type": "stream",
       "stream": "stderr",
       "text": [
        "INFO:interface:stdout 2014-10-08T11:21:12.469205:changed labels: 4390\n"
       ]
      },
      {
       "output_type": "stream",
       "stream": "stderr",
       "text": [
        "INFO:interface:stdout 2014-10-08T11:21:12.475114:iteration 11\n"
       ]
      },
      {
       "output_type": "stream",
       "stream": "stderr",
       "text": [
        "INFO:interface:stdout 2014-10-08T11:21:12.616964:changed labels: 4545\n"
       ]
      },
      {
       "output_type": "stream",
       "stream": "stderr",
       "text": [
        "INFO:interface:stdout 2014-10-08T11:21:12.623335:iteration 12\n"
       ]
      },
      {
       "output_type": "stream",
       "stream": "stderr",
       "text": [
        "INFO:interface:stdout 2014-10-08T11:21:12.766701:changed labels: 5858\n"
       ]
      },
      {
       "output_type": "stream",
       "stream": "stderr",
       "text": [
        "INFO:interface:stdout 2014-10-08T11:21:12.772639:iteration 13\n"
       ]
      },
      {
       "output_type": "stream",
       "stream": "stderr",
       "text": [
        "INFO:interface:stdout 2014-10-08T11:21:12.915343:changed labels: 5455\n"
       ]
      },
      {
       "output_type": "stream",
       "stream": "stderr",
       "text": [
        "INFO:interface:stdout 2014-10-08T11:21:12.921270:iteration 14\n"
       ]
      },
      {
       "output_type": "stream",
       "stream": "stderr",
       "text": [
        "INFO:interface:stdout 2014-10-08T11:21:13.062372:changed labels: 4392\n"
       ]
      },
      {
       "output_type": "stream",
       "stream": "stderr",
       "text": [
        "INFO:interface:stdout 2014-10-08T11:21:13.068301:iteration 15\n"
       ]
      },
      {
       "output_type": "stream",
       "stream": "stderr",
       "text": [
        "INFO:interface:stdout 2014-10-08T11:21:13.209286:changed labels: 4154\n"
       ]
      },
      {
       "output_type": "stream",
       "stream": "stderr",
       "text": [
        "INFO:interface:stdout 2014-10-08T11:21:13.215179:iteration 16\n"
       ]
      },
      {
       "output_type": "stream",
       "stream": "stderr",
       "text": [
        "INFO:interface:stdout 2014-10-08T11:21:13.355418:changed labels: 3861\n"
       ]
      },
      {
       "output_type": "stream",
       "stream": "stderr",
       "text": [
        "INFO:interface:stdout 2014-10-08T11:21:13.361346:iteration 17\n"
       ]
      },
      {
       "output_type": "stream",
       "stream": "stderr",
       "text": [
        "INFO:interface:stdout 2014-10-08T11:21:13.501112:changed labels: 3517\n"
       ]
      },
      {
       "output_type": "stream",
       "stream": "stderr",
       "text": [
        "INFO:interface:stdout 2014-10-08T11:21:13.507079:iteration 18\n"
       ]
      },
      {
       "output_type": "stream",
       "stream": "stderr",
       "text": [
        "INFO:interface:stdout 2014-10-08T11:21:13.646364:changed labels: 3299\n"
       ]
      },
      {
       "output_type": "stream",
       "stream": "stderr",
       "text": [
        "INFO:interface:stdout 2014-10-08T11:21:13.652245:iteration 19\n"
       ]
      },
      {
       "output_type": "stream",
       "stream": "stderr",
       "text": [
        "INFO:interface:stdout 2014-10-08T11:21:13.791478:changed labels: 3231\n"
       ]
      },
      {
       "output_type": "stream",
       "stream": "stderr",
       "text": [
        "INFO:interface:stdout 2014-10-08T11:21:13.797387:iteration 20\n"
       ]
      },
      {
       "output_type": "stream",
       "stream": "stderr",
       "text": [
        "INFO:interface:stdout 2014-10-08T11:21:13.936914:changed labels: 3073\n"
       ]
      },
      {
       "output_type": "stream",
       "stream": "stderr",
       "text": [
        "INFO:interface:stdout 2014-10-08T11:21:13.943145:iteration 21\n"
       ]
      },
      {
       "output_type": "stream",
       "stream": "stderr",
       "text": [
        "INFO:interface:stdout 2014-10-08T11:21:14.082910:changed labels: 3147\n"
       ]
      },
      {
       "output_type": "stream",
       "stream": "stderr",
       "text": [
        "INFO:interface:stdout 2014-10-08T11:21:14.089179:iteration 22\n"
       ]
      },
      {
       "output_type": "stream",
       "stream": "stderr",
       "text": [
        "INFO:interface:stdout 2014-10-08T11:21:14.229213:changed labels: 2968\n"
       ]
      },
      {
       "output_type": "stream",
       "stream": "stderr",
       "text": [
        "INFO:interface:stdout 2014-10-08T11:21:14.235512:iteration 23\n"
       ]
      },
      {
       "output_type": "stream",
       "stream": "stderr",
       "text": [
        "INFO:interface:stdout 2014-10-08T11:21:14.375033:changed labels: 2981\n"
       ]
      },
      {
       "output_type": "stream",
       "stream": "stderr",
       "text": [
        "INFO:interface:stdout 2014-10-08T11:21:14.381288:iteration 24\n"
       ]
      },
      {
       "output_type": "stream",
       "stream": "stderr",
       "text": [
        "INFO:interface:stdout 2014-10-08T11:21:14.520957:changed labels: 3144\n"
       ]
      },
      {
       "output_type": "stream",
       "stream": "stderr",
       "text": [
        "INFO:interface:stdout 2014-10-08T11:21:14.526998:iteration 25\n"
       ]
      },
      {
       "output_type": "stream",
       "stream": "stderr",
       "text": [
        "INFO:interface:stdout 2014-10-08T11:21:14.665663:changed labels: 3022\n"
       ]
      },
      {
       "output_type": "stream",
       "stream": "stderr",
       "text": [
        "INFO:interface:stdout 2014-10-08T11:21:14.671549:iteration 26\n"
       ]
      },
      {
       "output_type": "stream",
       "stream": "stderr",
       "text": [
        "INFO:interface:stdout 2014-10-08T11:21:14.810488:changed labels: 3115\n"
       ]
      },
      {
       "output_type": "stream",
       "stream": "stderr",
       "text": [
        "INFO:interface:stdout 2014-10-08T11:21:14.816388:iteration 27\n"
       ]
      },
      {
       "output_type": "stream",
       "stream": "stderr",
       "text": [
        "INFO:interface:stdout 2014-10-08T11:21:14.954836:changed labels: 2965\n"
       ]
      },
      {
       "output_type": "stream",
       "stream": "stderr",
       "text": [
        "INFO:interface:stdout 2014-10-08T11:21:14.960733:iteration 28\n"
       ]
      },
      {
       "output_type": "stream",
       "stream": "stderr",
       "text": [
        "INFO:interface:stdout 2014-10-08T11:21:15.099296:changed labels: 2986\n"
       ]
      },
      {
       "output_type": "stream",
       "stream": "stderr",
       "text": [
        "INFO:interface:stdout 2014-10-08T11:21:15.105181:iteration 29\n"
       ]
      },
      {
       "output_type": "stream",
       "stream": "stderr",
       "text": [
        "INFO:interface:stdout 2014-10-08T11:21:15.244259:changed labels: 2991\n"
       ]
      },
      {
       "output_type": "stream",
       "stream": "stderr",
       "text": [
        "INFO:interface:stdout 2014-10-08T11:21:15.250247:iteration 30\n"
       ]
      },
      {
       "output_type": "stream",
       "stream": "stderr",
       "text": [
        "INFO:interface:stdout 2014-10-08T11:21:15.388744:changed labels: 2999\n"
       ]
      },
      {
       "output_type": "stream",
       "stream": "stderr",
       "text": [
        "INFO:interface:stdout 2014-10-08T11:21:15.394681:iteration 31\n"
       ]
      },
      {
       "output_type": "stream",
       "stream": "stderr",
       "text": [
        "INFO:interface:stdout 2014-10-08T11:21:15.533524:changed labels: 3187\n"
       ]
      },
      {
       "output_type": "stream",
       "stream": "stderr",
       "text": [
        "INFO:interface:stdout 2014-10-08T11:21:15.539473:iteration 32\n"
       ]
      },
      {
       "output_type": "stream",
       "stream": "stderr",
       "text": [
        "INFO:interface:stdout 2014-10-08T11:21:15.678068:changed labels: 2998\n"
       ]
      },
      {
       "output_type": "stream",
       "stream": "stderr",
       "text": [
        "INFO:interface:stdout 2014-10-08T11:21:15.684023:iteration 33\n"
       ]
      },
      {
       "output_type": "stream",
       "stream": "stderr",
       "text": [
        "INFO:interface:stdout 2014-10-08T11:21:15.823370:changed labels: 3157\n"
       ]
      },
      {
       "output_type": "stream",
       "stream": "stderr",
       "text": [
        "INFO:interface:stdout 2014-10-08T11:21:15.829325:iteration 34\n"
       ]
      },
      {
       "output_type": "stream",
       "stream": "stderr",
       "text": [
        "INFO:interface:stdout 2014-10-08T11:21:15.968150:changed labels: 3112\n"
       ]
      },
      {
       "output_type": "stream",
       "stream": "stderr",
       "text": [
        "INFO:interface:stdout 2014-10-08T11:21:15.974566:iteration 35\n"
       ]
      },
      {
       "output_type": "stream",
       "stream": "stderr",
       "text": [
        "INFO:interface:stdout 2014-10-08T11:21:16.113477:changed labels: 3187\n"
       ]
      },
      {
       "output_type": "stream",
       "stream": "stderr",
       "text": [
        "INFO:interface:stdout 2014-10-08T11:21:16.119952:iteration 36\n"
       ]
      },
      {
       "output_type": "stream",
       "stream": "stderr",
       "text": [
        "INFO:interface:stdout 2014-10-08T11:21:16.259657:changed labels: 3176\n"
       ]
      },
      {
       "output_type": "stream",
       "stream": "stderr",
       "text": [
        "INFO:interface:stdout 2014-10-08T11:21:16.266094:iteration 37\n"
       ]
      },
      {
       "output_type": "stream",
       "stream": "stderr",
       "text": [
        "INFO:interface:stdout 2014-10-08T11:21:16.404960:changed labels: 3071\n"
       ]
      },
      {
       "output_type": "stream",
       "stream": "stderr",
       "text": [
        "INFO:interface:stdout 2014-10-08T11:21:16.410900:iteration 38\n"
       ]
      },
      {
       "output_type": "stream",
       "stream": "stderr",
       "text": [
        "INFO:interface:stdout 2014-10-08T11:21:16.550048:changed labels: 3225\n"
       ]
      },
      {
       "output_type": "stream",
       "stream": "stderr",
       "text": [
        "INFO:interface:stdout 2014-10-08T11:21:16.556529:iteration 39\n"
       ]
      },
      {
       "output_type": "stream",
       "stream": "stderr",
       "text": [
        "INFO:interface:stdout 2014-10-08T11:21:16.695990:changed labels: 3355\n"
       ]
      },
      {
       "output_type": "stream",
       "stream": "stderr",
       "text": [
        "INFO:interface:stdout 2014-10-08T11:21:16.702488:iteration 40\n"
       ]
      },
      {
       "output_type": "stream",
       "stream": "stderr",
       "text": [
        "INFO:interface:stdout 2014-10-08T11:21:16.841447:changed labels: 3281\n"
       ]
      },
      {
       "output_type": "stream",
       "stream": "stderr",
       "text": [
        "INFO:interface:stdout 2014-10-08T11:21:16.847392:iteration 41\n"
       ]
      },
      {
       "output_type": "stream",
       "stream": "stderr",
       "text": [
        "INFO:interface:stdout 2014-10-08T11:21:16.986173:changed labels: 3256\n"
       ]
      },
      {
       "output_type": "stream",
       "stream": "stderr",
       "text": [
        "INFO:interface:stdout 2014-10-08T11:21:16.992071:iteration 42\n"
       ]
      },
      {
       "output_type": "stream",
       "stream": "stderr",
       "text": [
        "INFO:interface:stdout 2014-10-08T11:21:17.131107:changed labels: 3400\n"
       ]
      },
      {
       "output_type": "stream",
       "stream": "stderr",
       "text": [
        "INFO:interface:stdout 2014-10-08T11:21:17.137494:iteration 43\n"
       ]
      },
      {
       "output_type": "stream",
       "stream": "stderr",
       "text": [
        "INFO:interface:stdout 2014-10-08T11:21:17.276853:changed labels: 3148\n"
       ]
      },
      {
       "output_type": "stream",
       "stream": "stderr",
       "text": [
        "INFO:interface:stdout 2014-10-08T11:21:17.282752:iteration 44\n"
       ]
      },
      {
       "output_type": "stream",
       "stream": "stderr",
       "text": [
        "INFO:interface:stdout 2014-10-08T11:21:17.421688:changed labels: 3305\n"
       ]
      },
      {
       "output_type": "stream",
       "stream": "stderr",
       "text": [
        "INFO:interface:stdout 2014-10-08T11:21:17.428079:iteration 45\n"
       ]
      },
      {
       "output_type": "stream",
       "stream": "stderr",
       "text": [
        "INFO:interface:stdout 2014-10-08T11:21:17.567698:changed labels: 3253\n"
       ]
      },
      {
       "output_type": "stream",
       "stream": "stderr",
       "text": [
        "INFO:interface:stdout 2014-10-08T11:21:17.574051:iteration 46\n"
       ]
      },
      {
       "output_type": "stream",
       "stream": "stderr",
       "text": [
        "INFO:interface:stdout 2014-10-08T11:21:17.713163:changed labels: 3149\n"
       ]
      },
      {
       "output_type": "stream",
       "stream": "stderr",
       "text": [
        "INFO:interface:stdout 2014-10-08T11:21:17.719099:iteration 47\n"
       ]
      },
      {
       "output_type": "stream",
       "stream": "stderr",
       "text": [
        "INFO:interface:stdout 2014-10-08T11:21:17.858218:changed labels: 3195\n"
       ]
      },
      {
       "output_type": "stream",
       "stream": "stderr",
       "text": [
        "INFO:interface:stdout 2014-10-08T11:21:17.864136:iteration 48\n"
       ]
      },
      {
       "output_type": "stream",
       "stream": "stderr",
       "text": [
        "INFO:interface:stdout 2014-10-08T11:21:18.003257:changed labels: 3198\n"
       ]
      },
      {
       "output_type": "stream",
       "stream": "stderr",
       "text": [
        "INFO:interface:stdout 2014-10-08T11:21:18.009607:iteration 49\n"
       ]
      },
      {
       "output_type": "stream",
       "stream": "stderr",
       "text": [
        "INFO:interface:stdout 2014-10-08T11:21:18.148513:changed labels: 3116\n"
       ]
      },
      {
       "output_type": "stream",
       "stream": "stderr",
       "text": [
        "INFO:interface:stdout 2014-10-08T11:21:18.154853:iteration 50\n"
       ]
      },
      {
       "output_type": "stream",
       "stream": "stderr",
       "text": [
        "INFO:interface:stdout 2014-10-08T11:21:18.294286:changed labels: 3155\n"
       ]
      },
      {
       "output_type": "stream",
       "stream": "stderr",
       "text": [
        "INFO:interface:stdout 2014-10-08T11:21:18.300162:iteration 51\n"
       ]
      },
      {
       "output_type": "stream",
       "stream": "stderr",
       "text": [
        "INFO:interface:stdout 2014-10-08T11:21:18.438745:changed labels: 3109\n"
       ]
      },
      {
       "output_type": "stream",
       "stream": "stderr",
       "text": [
        "INFO:interface:stdout 2014-10-08T11:21:18.445118:iteration 52\n"
       ]
      },
      {
       "output_type": "stream",
       "stream": "stderr",
       "text": [
        "INFO:interface:stdout 2014-10-08T11:21:18.584531:changed labels: 3148\n"
       ]
      },
      {
       "output_type": "stream",
       "stream": "stderr",
       "text": [
        "INFO:interface:stdout 2014-10-08T11:21:18.590879:iteration 53\n"
       ]
      },
      {
       "output_type": "stream",
       "stream": "stderr",
       "text": [
        "INFO:interface:stdout 2014-10-08T11:21:18.729746:changed labels: 3123\n"
       ]
      },
      {
       "output_type": "stream",
       "stream": "stderr",
       "text": [
        "INFO:interface:stdout 2014-10-08T11:21:18.735709:iteration 54\n"
       ]
      },
      {
       "output_type": "stream",
       "stream": "stderr",
       "text": [
        "INFO:interface:stdout 2014-10-08T11:21:18.874285:changed labels: 3120\n"
       ]
      },
      {
       "output_type": "stream",
       "stream": "stderr",
       "text": [
        "INFO:interface:stdout 2014-10-08T11:21:18.880195:iteration 55\n"
       ]
      },
      {
       "output_type": "stream",
       "stream": "stderr",
       "text": [
        "INFO:interface:stdout 2014-10-08T11:21:19.019324:changed labels: 3091\n"
       ]
      },
      {
       "output_type": "stream",
       "stream": "stderr",
       "text": [
        "INFO:interface:stdout 2014-10-08T11:21:19.025711:iteration 56\n"
       ]
      },
      {
       "output_type": "stream",
       "stream": "stderr",
       "text": [
        "INFO:interface:stdout 2014-10-08T11:21:19.164922:changed labels: 3051\n"
       ]
      },
      {
       "output_type": "stream",
       "stream": "stderr",
       "text": [
        "INFO:interface:stdout 2014-10-08T11:21:19.171266:iteration 57\n"
       ]
      },
      {
       "output_type": "stream",
       "stream": "stderr",
       "text": [
        "INFO:interface:stdout 2014-10-08T11:21:19.311670:changed labels: 3168\n"
       ]
      },
      {
       "output_type": "stream",
       "stream": "stderr",
       "text": [
        "INFO:interface:stdout 2014-10-08T11:21:19.318053:iteration 58\n"
       ]
      },
      {
       "output_type": "stream",
       "stream": "stderr",
       "text": [
        "INFO:interface:stdout 2014-10-08T11:21:19.457485:changed labels: 3182\n"
       ]
      },
      {
       "output_type": "stream",
       "stream": "stderr",
       "text": [
        "INFO:interface:stdout 2014-10-08T11:21:19.463869:iteration 59\n"
       ]
      },
      {
       "output_type": "stream",
       "stream": "stderr",
       "text": [
        "INFO:interface:stdout 2014-10-08T11:21:19.603185:changed labels: 3228\n"
       ]
      },
      {
       "output_type": "stream",
       "stream": "stderr",
       "text": [
        "INFO:interface:stdout 2014-10-08T11:21:19.609066:iteration 60\n"
       ]
      },
      {
       "output_type": "stream",
       "stream": "stderr",
       "text": [
        "INFO:interface:stdout 2014-10-08T11:21:19.748670:changed labels: 3258\n"
       ]
      },
      {
       "output_type": "stream",
       "stream": "stderr",
       "text": [
        "INFO:interface:stdout 2014-10-08T11:21:19.754578:iteration 61\n"
       ]
      },
      {
       "output_type": "stream",
       "stream": "stderr",
       "text": [
        "INFO:interface:stdout 2014-10-08T11:21:19.893432:changed labels: 3284\n"
       ]
      },
      {
       "output_type": "stream",
       "stream": "stderr",
       "text": [
        "INFO:interface:stdout 2014-10-08T11:21:19.899299:iteration 62\n"
       ]
      },
      {
       "output_type": "stream",
       "stream": "stderr",
       "text": [
        "INFO:interface:stdout 2014-10-08T11:21:20.038052:changed labels: 3222\n"
       ]
      },
      {
       "output_type": "stream",
       "stream": "stderr",
       "text": [
        "INFO:interface:stdout 2014-10-08T11:21:20.043941:iteration 63\n"
       ]
      },
      {
       "output_type": "stream",
       "stream": "stderr",
       "text": [
        "INFO:interface:stdout 2014-10-08T11:21:20.182916:changed labels: 3125\n"
       ]
      },
      {
       "output_type": "stream",
       "stream": "stderr",
       "text": [
        "INFO:interface:stdout 2014-10-08T11:21:20.188823:iteration 64\n"
       ]
      },
      {
       "output_type": "stream",
       "stream": "stderr",
       "text": [
        "INFO:interface:stdout 2014-10-08T11:21:20.327774:changed labels: 3199\n"
       ]
      },
      {
       "output_type": "stream",
       "stream": "stderr",
       "text": [
        "INFO:interface:stdout 2014-10-08T11:21:20.333630:iteration 65\n"
       ]
      },
      {
       "output_type": "stream",
       "stream": "stderr",
       "text": [
        "INFO:interface:stdout 2014-10-08T11:21:20.472309:changed labels: 3183\n"
       ]
      },
      {
       "output_type": "stream",
       "stream": "stderr",
       "text": [
        "INFO:interface:stdout 2014-10-08T11:21:20.478181:iteration 66\n"
       ]
      },
      {
       "output_type": "stream",
       "stream": "stderr",
       "text": [
        "INFO:interface:stdout 2014-10-08T11:21:20.616849:changed labels: 3151\n"
       ]
      },
      {
       "output_type": "stream",
       "stream": "stderr",
       "text": [
        "INFO:interface:stdout 2014-10-08T11:21:20.622709:iteration 67\n"
       ]
      },
      {
       "output_type": "stream",
       "stream": "stderr",
       "text": [
        "INFO:interface:stdout 2014-10-08T11:21:20.761533:changed labels: 3162\n"
       ]
      },
      {
       "output_type": "stream",
       "stream": "stderr",
       "text": [
        "INFO:interface:stdout 2014-10-08T11:21:20.767403:iteration 68\n"
       ]
      },
      {
       "output_type": "stream",
       "stream": "stderr",
       "text": [
        "INFO:interface:stdout 2014-10-08T11:21:20.906374:changed labels: 3280\n"
       ]
      },
      {
       "output_type": "stream",
       "stream": "stderr",
       "text": [
        "INFO:interface:stdout 2014-10-08T11:21:20.912740:iteration 69\n"
       ]
      },
      {
       "output_type": "stream",
       "stream": "stderr",
       "text": [
        "INFO:interface:stdout 2014-10-08T11:21:21.052267:changed labels: 3210\n"
       ]
      },
      {
       "output_type": "stream",
       "stream": "stderr",
       "text": [
        "INFO:interface:stdout 2014-10-08T11:21:21.058641:iteration 70\n"
       ]
      },
      {
       "output_type": "stream",
       "stream": "stderr",
       "text": [
        "INFO:interface:stdout 2014-10-08T11:21:21.197908:changed labels: 3249\n"
       ]
      },
      {
       "output_type": "stream",
       "stream": "stderr",
       "text": [
        "INFO:interface:stdout 2014-10-08T11:21:21.203793:iteration 71\n"
       ]
      },
      {
       "output_type": "stream",
       "stream": "stderr",
       "text": [
        "INFO:interface:stdout 2014-10-08T11:21:21.343372:changed labels: 3224\n"
       ]
      },
      {
       "output_type": "stream",
       "stream": "stderr",
       "text": [
        "INFO:interface:stdout 2014-10-08T11:21:21.349758:iteration 72\n"
       ]
      },
      {
       "output_type": "stream",
       "stream": "stderr",
       "text": [
        "INFO:interface:stdout 2014-10-08T11:21:21.488965:changed labels: 3280\n"
       ]
      },
      {
       "output_type": "stream",
       "stream": "stderr",
       "text": [
        "INFO:interface:stdout 2014-10-08T11:21:21.494824:iteration 73\n"
       ]
      },
      {
       "output_type": "stream",
       "stream": "stderr",
       "text": [
        "INFO:interface:stdout 2014-10-08T11:21:21.633858:changed labels: 3284\n"
       ]
      },
      {
       "output_type": "stream",
       "stream": "stderr",
       "text": [
        "INFO:interface:stdout 2014-10-08T11:21:21.639778:iteration 74\n"
       ]
      },
      {
       "output_type": "stream",
       "stream": "stderr",
       "text": [
        "INFO:interface:stdout 2014-10-08T11:21:21.779311:changed labels: 3360\n"
       ]
      },
      {
       "output_type": "stream",
       "stream": "stderr",
       "text": [
        "INFO:interface:stdout 2014-10-08T11:21:21.785682:iteration 75\n"
       ]
      },
      {
       "output_type": "stream",
       "stream": "stderr",
       "text": [
        "INFO:interface:stdout 2014-10-08T11:21:21.925174:changed labels: 3194\n"
       ]
      },
      {
       "output_type": "stream",
       "stream": "stderr",
       "text": [
        "INFO:interface:stdout 2014-10-08T11:21:21.931599:iteration 76\n"
       ]
      },
      {
       "output_type": "stream",
       "stream": "stderr",
       "text": [
        "INFO:interface:stdout 2014-10-08T11:21:22.070929:changed labels: 3254\n"
       ]
      },
      {
       "output_type": "stream",
       "stream": "stderr",
       "text": [
        "INFO:interface:stdout 2014-10-08T11:21:22.076842:iteration 77\n"
       ]
      },
      {
       "output_type": "stream",
       "stream": "stderr",
       "text": [
        "INFO:interface:stdout 2014-10-08T11:21:22.216383:changed labels: 3362\n"
       ]
      },
      {
       "output_type": "stream",
       "stream": "stderr",
       "text": [
        "INFO:interface:stdout 2014-10-08T11:21:22.222750:iteration 78\n"
       ]
      },
      {
       "output_type": "stream",
       "stream": "stderr",
       "text": [
        "INFO:interface:stdout 2014-10-08T11:21:22.363152:changed labels: 3461\n"
       ]
      },
      {
       "output_type": "stream",
       "stream": "stderr",
       "text": [
        "INFO:interface:stdout 2014-10-08T11:21:22.369032:iteration 79\n"
       ]
      },
      {
       "output_type": "stream",
       "stream": "stderr",
       "text": [
        "INFO:interface:stdout 2014-10-08T11:21:22.508600:changed labels: 3372\n"
       ]
      },
      {
       "output_type": "stream",
       "stream": "stderr",
       "text": [
        "INFO:interface:stdout 2014-10-08T11:21:22.514944:iteration 80\n"
       ]
      },
      {
       "output_type": "stream",
       "stream": "stderr",
       "text": [
        "INFO:interface:stdout 2014-10-08T11:21:22.654218:changed labels: 3317\n"
       ]
      },
      {
       "output_type": "stream",
       "stream": "stderr",
       "text": [
        "INFO:interface:stdout 2014-10-08T11:21:22.660619:iteration 81\n"
       ]
      },
      {
       "output_type": "stream",
       "stream": "stderr",
       "text": [
        "INFO:interface:stdout 2014-10-08T11:21:22.800057:changed labels: 3318\n"
       ]
      },
      {
       "output_type": "stream",
       "stream": "stderr",
       "text": [
        "INFO:interface:stdout 2014-10-08T11:21:22.805917:iteration 82\n"
       ]
      },
      {
       "output_type": "stream",
       "stream": "stderr",
       "text": [
        "INFO:interface:stdout 2014-10-08T11:21:22.944992:changed labels: 3350\n"
       ]
      },
      {
       "output_type": "stream",
       "stream": "stderr",
       "text": [
        "INFO:interface:stdout 2014-10-08T11:21:22.950862:iteration 83\n"
       ]
      },
      {
       "output_type": "stream",
       "stream": "stderr",
       "text": [
        "INFO:interface:stdout 2014-10-08T11:21:23.089924:changed labels: 3377\n"
       ]
      },
      {
       "output_type": "stream",
       "stream": "stderr",
       "text": [
        "INFO:interface:stdout 2014-10-08T11:21:23.095808:iteration 84\n"
       ]
      },
      {
       "output_type": "stream",
       "stream": "stderr",
       "text": [
        "INFO:interface:stdout 2014-10-08T11:21:23.235496:changed labels: 3318\n"
       ]
      },
      {
       "output_type": "stream",
       "stream": "stderr",
       "text": [
        "INFO:interface:stdout 2014-10-08T11:21:23.241853:iteration 85\n"
       ]
      },
      {
       "output_type": "stream",
       "stream": "stderr",
       "text": [
        "INFO:interface:stdout 2014-10-08T11:21:23.381811:changed labels: 3433\n"
       ]
      },
      {
       "output_type": "stream",
       "stream": "stderr",
       "text": [
        "INFO:interface:stdout 2014-10-08T11:21:23.388286:re-initialization\n"
       ]
      },
      {
       "output_type": "stream",
       "stream": "stderr",
       "text": [
        "INFO:interface:stdout 2014-10-08T11:21:23.388286:level set evolution: iso-surface reinit\n"
       ]
      },
      {
       "output_type": "stream",
       "stream": "stderr",
       "text": [
        "INFO:interface:stdout 2014-10-08T11:21:23.512363:fast marching\n"
       ]
      },
      {
       "output_type": "stream",
       "stream": "stderr",
       "text": [
        "INFO:interface:stdout 2014-10-08T11:21:23.840740:init\n"
       ]
      },
      {
       "output_type": "stream",
       "stream": "stderr",
       "text": [
        "INFO:interface:stdout 2014-10-08T11:21:26.222345:done\n"
       ]
      },
      {
       "output_type": "stream",
       "stream": "stderr",
       "text": [
        "INFO:interface:stdout 2014-10-08T11:21:26.326846:iteration 86\n"
       ]
      },
      {
       "output_type": "stream",
       "stream": "stderr",
       "text": [
        "INFO:interface:stdout 2014-10-08T11:21:26.463305:changed labels: 3738\n"
       ]
      },
      {
       "output_type": "stream",
       "stream": "stderr",
       "text": [
        "INFO:interface:stdout 2014-10-08T11:21:26.470401:iteration 87\n"
       ]
      },
      {
       "output_type": "stream",
       "stream": "stderr",
       "text": [
        "INFO:interface:stdout 2014-10-08T11:21:26.605945:changed labels: 3133\n"
       ]
      },
      {
       "output_type": "stream",
       "stream": "stderr",
       "text": [
        "INFO:interface:stdout 2014-10-08T11:21:26.612417:iteration 88\n"
       ]
      },
      {
       "output_type": "stream",
       "stream": "stderr",
       "text": [
        "INFO:interface:stdout 2014-10-08T11:21:26.747961:changed labels: 3383\n"
       ]
      },
      {
       "output_type": "stream",
       "stream": "stderr",
       "text": [
        "INFO:interface:stdout 2014-10-08T11:21:26.754444:iteration 89\n"
       ]
      },
      {
       "output_type": "stream",
       "stream": "stderr",
       "text": [
        "INFO:interface:stdout 2014-10-08T11:21:26.890197:changed labels: 3400\n"
       ]
      },
      {
       "output_type": "stream",
       "stream": "stderr",
       "text": [
        "INFO:interface:stdout 2014-10-08T11:21:26.896672:iteration 90\n"
       ]
      },
      {
       "output_type": "stream",
       "stream": "stderr",
       "text": [
        "INFO:interface:stdout 2014-10-08T11:21:27.035196:changed labels: 3305\n"
       ]
      },
      {
       "output_type": "stream",
       "stream": "stderr",
       "text": [
        "INFO:interface:stdout 2014-10-08T11:21:27.043981:iteration 91\n"
       ]
      },
      {
       "output_type": "stream",
       "stream": "stderr",
       "text": [
        "INFO:interface:stdout 2014-10-08T11:21:27.182368:changed labels: 3291\n"
       ]
      },
      {
       "output_type": "stream",
       "stream": "stderr",
       "text": [
        "INFO:interface:stdout 2014-10-08T11:21:27.190507:iteration 92\n"
       ]
      },
      {
       "output_type": "stream",
       "stream": "stderr",
       "text": [
        "INFO:interface:stdout 2014-10-08T11:21:27.327295:changed labels: 3435\n"
       ]
      },
      {
       "output_type": "stream",
       "stream": "stderr",
       "text": [
        "INFO:interface:stdout 2014-10-08T11:21:27.334256:iteration 93\n"
       ]
      },
      {
       "output_type": "stream",
       "stream": "stderr",
       "text": [
        "INFO:interface:stdout 2014-10-08T11:21:27.470577:changed labels: 3347\n"
       ]
      },
      {
       "output_type": "stream",
       "stream": "stderr",
       "text": [
        "INFO:interface:stdout 2014-10-08T11:21:27.477607:iteration 94\n"
       ]
      },
      {
       "output_type": "stream",
       "stream": "stderr",
       "text": [
        "INFO:interface:stdout 2014-10-08T11:21:27.613999:changed labels: 3542\n"
       ]
      },
      {
       "output_type": "stream",
       "stream": "stderr",
       "text": [
        "INFO:interface:stdout 2014-10-08T11:21:27.620962:iteration 95\n"
       ]
      },
      {
       "output_type": "stream",
       "stream": "stderr",
       "text": [
        "INFO:interface:stdout 2014-10-08T11:21:27.757684:changed labels: 3485\n"
       ]
      },
      {
       "output_type": "stream",
       "stream": "stderr",
       "text": [
        "INFO:interface:stdout 2014-10-08T11:21:27.764637:iteration 96\n"
       ]
      },
      {
       "output_type": "stream",
       "stream": "stderr",
       "text": [
        "INFO:interface:stdout 2014-10-08T11:21:27.901087:changed labels: 3508\n"
       ]
      },
      {
       "output_type": "stream",
       "stream": "stderr",
       "text": [
        "INFO:interface:stdout 2014-10-08T11:21:27.908074:iteration 97\n"
       ]
      },
      {
       "output_type": "stream",
       "stream": "stderr",
       "text": [
        "INFO:interface:stdout 2014-10-08T11:21:28.044446:changed labels: 3447\n"
       ]
      },
      {
       "output_type": "stream",
       "stream": "stderr",
       "text": [
        "INFO:interface:stdout 2014-10-08T11:21:28.051384:iteration 98\n"
       ]
      },
      {
       "output_type": "stream",
       "stream": "stderr",
       "text": [
        "INFO:interface:stdout 2014-10-08T11:21:28.187823:changed labels: 3468\n"
       ]
      },
      {
       "output_type": "stream",
       "stream": "stderr",
       "text": [
        "INFO:interface:stdout 2014-10-08T11:21:28.194809:iteration 99\n"
       ]
      },
      {
       "output_type": "stream",
       "stream": "stderr",
       "text": [
        "INFO:interface:stdout 2014-10-08T11:21:28.331813:changed labels: 3497\n"
       ]
      },
      {
       "output_type": "stream",
       "stream": "stderr",
       "text": [
        "INFO:interface:stdout 2014-10-08T11:21:28.931838:edu.jhu.ece.iacl.jist.structures.image.ImageDataFloat\tImageDataFloat: 0New image:256x256x176x0\n"
       ]
      },
      {
       "output_type": "stream",
       "stream": "stderr",
       "text": [
        "INFO:interface:stdout 2014-10-08T11:21:29.267746:edu.jhu.ece.iacl.jist.structures.image.ImageDataFloat\tImageDataFloat: 1New image:256x256x176x0\n"
       ]
      },
      {
       "output_type": "stream",
       "stream": "stderr",
       "text": [
        "INFO:interface:stderr 2014-10-08T11:21:29.268109:edu.jhu.ece.iacl.jist.pipeline.CalculationMonitorCalculation Monitor not running. Punting stop.\n"
       ]
      },
      {
       "output_type": "stream",
       "stream": "stderr",
       "text": [
        "INFO:interface:stdout 2014-10-08T11:21:29.273330:---------- Performance Summary ----------\n"
       ]
      },
      {
       "output_type": "stream",
       "stream": "stderr",
       "text": [
        "INFO:interface:stdout 2014-10-08T11:21:29.273330:1) Algorithm Calculation -- ELAPSED TIME: Actual:  1 min 7.91 sec / CPU:  1 min 7.42 sec\n"
       ]
      },
      {
       "output_type": "stream",
       "stream": "stderr",
       "text": [
        "INFO:interface:stdout 2014-10-08T11:21:29.273330:\n"
       ]
      },
      {
       "output_type": "stream",
       "stream": "stderr",
       "text": [
        "INFO:interface:stdout 2014-10-08T11:21:29.273330:TOTAL ELAPSED TIME: Actual:  1 min 7.91 sec / CPU:  1 min 7.42 sec\n"
       ]
      },
      {
       "output_type": "stream",
       "stream": "stderr",
       "text": [
        "INFO:interface:stdout 2014-10-08T11:21:29.273330:CURRENT MEMORY: Used 671 MB, Free 1259 MB, Total 1930 MB\n"
       ]
      },
      {
       "output_type": "stream",
       "stream": "stderr",
       "text": [
        "INFO:interface:stdout 2014-10-08T11:21:29.274824:jist.io\tFileReaderWriter: write file:outBrain.nii\n"
       ]
      },
      {
       "output_type": "stream",
       "stream": "stderr",
       "text": [
        "INFO:interface:stderr 2014-10-08T11:21:29.275134:edu.jhu.ece.iacl.jist.pipeline.view.input.RefresherRefresher stopping via interrupt.\n"
       ]
      },
      {
       "output_type": "stream",
       "stream": "stderr",
       "text": [
        "INFO:interface:stderr 2014-10-08T11:21:29.275134:edu.jhu.ece.iacl.jist.pipeline.view.input.RefresherRefresher finished.\n"
       ]
      },
      {
       "output_type": "stream",
       "stream": "stderr",
       "text": [
        "INFO:interface:stdout 2014-10-08T11:21:29.631453:%% outBrain.nii\n"
       ]
      },
      {
       "output_type": "stream",
       "stream": "stderr",
       "text": [
        "INFO:interface:stdout 2014-10-08T11:21:29.631453:%% /home/gdholla1/notebooks\n"
       ]
      },
      {
       "output_type": "stream",
       "stream": "stderr",
       "text": [
        "INFO:interface:stdout 2014-10-08T11:21:29.631453:== /home/gdholla1/notebooks/outBrain.nii\n"
       ]
      },
      {
       "output_type": "stream",
       "stream": "stderr",
       "text": [
        "INFO:interface:stdout 2014-10-08T11:21:29.966910:cli\t####################################################################\n"
       ]
      },
      {
       "output_type": "stream",
       "stream": "stderr",
       "text": [
        "INFO:interface:stdout 2014-10-08T11:21:29.967730:cli\tDone: de.mpg.cbs.jist.brain.JistBrainMp2rageSkullStripping\n"
       ]
      },
      {
       "output_type": "stream",
       "stream": "stderr",
       "text": [
        "INFO:interface:stdout 2014-10-08T11:21:29.967730:cli\t####################################################################\n"
       ]
      }
     ],
     "prompt_number": 8
    },
    {
     "cell_type": "code",
     "collapsed": false,
     "input": [
      "r.outputs"
     ],
     "language": "python",
     "metadata": {},
     "outputs": [
      {
       "metadata": {},
       "output_type": "pyout",
       "prompt_number": 11,
       "text": [
        "\n",
        "outBrain = /home/gdholla1/notebooks/outBrain.nii\n",
        "outMasked = <undefined>\n",
        "outMasked2 = <undefined>\n",
        "outMasked3 = <undefined>"
       ]
      }
     ],
     "prompt_number": 11
    },
    {
     "cell_type": "code",
     "collapsed": false,
     "input": [
      "skullstrip = mipav.gilles.JistBrainMp2rageSkullStripping()\n",
      "skullstrip.inputs.inSecond = '/home/gdholla1/data/leipzig/mri/KP6T/session1_zoomed_in/S4_mp2rage_whole_brain_INV2.nii'\n",
      "skullstrip.inputs.inFilter = '/home/gdholla1/data/leipzig/mri/KP6T/session1_zoomed_in/S7_mp2rage_whole_brain_UNI_Images.nii'\n",
      "skullstrip.inputs.inT1weighted = '/home/gdholla1/data/leipzig/mri/KP6T/session1_zoomed_in/S6_mp2rage_whole_brain_T1_Images.nii'\n",
      "skullstrip.inputs.outMasked = True"
     ],
     "language": "python",
     "metadata": {},
     "outputs": [],
     "prompt_number": 12
    },
    {
     "cell_type": "code",
     "collapsed": false,
     "input": [
      "r = skullstrip.run()"
     ],
     "language": "python",
     "metadata": {},
     "outputs": [
      {
       "output_type": "stream",
       "stream": "stderr",
       "text": [
        "INFO:interface:stderr 2014-10-08T11:25:02.881060:Could not find library, using working directory /home/gdholla1/jist-lib\n"
       ]
      },
      {
       "output_type": "stream",
       "stream": "stderr",
       "text": [
        "INFO:interface:stdout 2014-10-08T11:25:02.929357:cli\t####################################################################\n"
       ]
      },
      {
       "output_type": "stream",
       "stream": "stderr",
       "text": [
        "INFO:interface:stdout 2014-10-08T11:25:02.929357:cli\tInitializing MIPAV/JIST Framework\n"
       ]
      },
      {
       "output_type": "stream",
       "stream": "stderr",
       "text": [
        "INFO:interface:stdout 2014-10-08T11:25:02.946875:MIPAV STARTED with forceQuite set as true\n"
       ]
      },
      {
       "output_type": "stream",
       "stream": "stderr",
       "text": [
        "INFO:interface:stdout 2014-10-08T11:25:03.373111:cli\t####################################################################\n"
       ]
      },
      {
       "output_type": "stream",
       "stream": "stderr",
       "text": [
        "INFO:interface:stdout 2014-10-08T11:25:03.373111:cli\tInterpretting command line arguments\n"
       ]
      },
      {
       "output_type": "stream",
       "stream": "stderr",
       "text": [
        "INFO:interface:stdout 2014-10-08T11:25:03.374932:cli\t####################################################################\n"
       ]
      },
      {
       "output_type": "stream",
       "stream": "stderr",
       "text": [
        "INFO:interface:stdout 2014-10-08T11:25:03.374932:de.mpg.cbs.jist.brain.JistBrainMp2rageSkullStripping\n"
       ]
      },
      {
       "output_type": "stream",
       "stream": "stderr",
       "text": [
        "INFO:interface:stdout 2014-10-08T11:25:03.374932:\toutExecution = <default> = \n"
       ]
      },
      {
       "output_type": "stream",
       "stream": "stderr",
       "text": [
        "INFO:interface:stdout 2014-10-08T11:25:03.374932:\tinSkip = <default> = false\n"
       ]
      },
      {
       "output_type": "stream",
       "stream": "stderr",
       "text": [
        "INFO:interface:stdout 2014-10-08T11:25:03.374932:\tinFilter = /home/gdholla1/data/leipzig/mri/KP6T/session1_zoomed_in/S7_mp2rage_whole_brain_UNI_Images.nii = /home/gdholla1/data/leipzig/mri/KP6T/session1_zoomed_in/S7_mp2rage_whole_brain_UNI_Images.nii\n"
       ]
      },
      {
       "output_type": "stream",
       "stream": "stderr",
       "text": [
        "INFO:interface:stdout 2014-10-08T11:25:03.374932:\toutMasked2 = <default> = Masked T1-weighted Image\n"
       ]
      },
      {
       "output_type": "stream",
       "stream": "stderr",
       "text": [
        "INFO:interface:stdout 2014-10-08T11:25:03.374932:\tinInv2 = /home/gdholla1/data/leipzig/mri/KP6T/session1_zoomed_in/S4_mp2rage_whole_brain_INV2.nii = /home/gdholla1/data/leipzig/mri/KP6T/session1_zoomed_in/S4_mp2rage_whole_brain_INV2.nii\n"
       ]
      },
      {
       "output_type": "stream",
       "stream": "stderr",
       "text": [
        "INFO:interface:stdout 2014-10-08T11:25:03.374932:\tinT1weighted = /home/gdholla1/data/leipzig/mri/KP6T/session1_zoomed_in/S6_mp2rage_whole_brain_T1_Images.nii = /home/gdholla1/data/leipzig/mri/KP6T/session1_zoomed_in/S6_mp2rage_whole_brain_T1_Images.nii\n"
       ]
      },
      {
       "output_type": "stream",
       "stream": "stderr",
       "text": [
        "INFO:interface:stdout 2014-10-08T11:25:03.374932:\toutBrain = <default> = Brain Mask Image\n"
       ]
      },
      {
       "output_type": "stream",
       "stream": "stderr",
       "text": [
        "INFO:interface:stdout 2014-10-08T11:25:03.374932:\toutMasked3 = <default> = Masked Filter Image\n"
       ]
      },
      {
       "output_type": "stream",
       "stream": "stderr",
       "text": [
        "INFO:interface:stdout 2014-10-08T11:25:03.374932:\tinT1 = <default> = T1 Map Image\n"
       ]
      },
      {
       "output_type": "stream",
       "stream": "stderr",
       "text": [
        "INFO:interface:stdout 2014-10-08T11:25:03.374932:\toutMasked = /home/gdholla1/notebooks/outMasked.nii = /home/gdholla1/notebooks/outMasked.nii\n"
       ]
      },
      {
       "output_type": "stream",
       "stream": "stderr",
       "text": [
        "INFO:interface:stdout 2014-10-08T11:25:03.374932:\toutProc = /home/gdholla1/notebooks\n"
       ]
      },
      {
       "output_type": "stream",
       "stream": "stderr",
       "text": [
        "INFO:interface:stdout 2014-10-08T11:25:03.374932:\toutResult = output.txt\n"
       ]
      },
      {
       "output_type": "stream",
       "stream": "stderr",
       "text": [
        "INFO:interface:stdout 2014-10-08T11:25:03.379824:cli\t####################################################################\n"
       ]
      },
      {
       "output_type": "stream",
       "stream": "stderr",
       "text": [
        "INFO:interface:stdout 2014-10-08T11:25:04.957285:edu.jhu.ece.iacl.jist.structures.image.ImageDataFloat\tImageDataFloat: 0New image:256x256x176x1\n"
       ]
      },
      {
       "output_type": "stream",
       "stream": "stderr",
       "text": [
        "INFO:interface:stdout 2014-10-08T11:25:05.657154:edu.jhu.ece.iacl.jist.structures.image.ImageDataFloat\tImageDataFloat: 1New image:256x256x176x1\n"
       ]
      },
      {
       "output_type": "stream",
       "stream": "stderr",
       "text": [
        "INFO:interface:stdout 2014-10-08T11:25:06.349454:edu.jhu.ece.iacl.jist.structures.image.ImageDataFloat\tImageDataFloat: 2New image:256x256x176x1\n"
       ]
      },
      {
       "output_type": "stream",
       "stream": "stderr",
       "text": [
        "INFO:interface:stdout 2014-10-08T11:25:09.207651:image range: 0.0, 1499.0\n"
       ]
      },
      {
       "output_type": "stream",
       "stream": "stderr",
       "text": [
        "INFO:interface:stdout 2014-10-08T11:25:09.257496:mean parameters: 0.05102058095562509\n"
       ]
      },
      {
       "output_type": "stream",
       "stream": "stderr",
       "text": [
        "INFO:interface:stdout 2014-10-08T11:25:09.934716:iteration 1\n"
       ]
      },
      {
       "output_type": "stream",
       "stream": "stderr",
       "text": [
        "INFO:interface:stdout 2014-10-08T11:25:09.957078:mean parameters: 0.02495016508806164\n"
       ]
      },
      {
       "output_type": "stream",
       "stream": "stderr",
       "text": [
        "INFO:interface:stdout 2014-10-08T11:25:09.960048:diff parameters: 0.026070415867563448\n"
       ]
      },
      {
       "output_type": "stream",
       "stream": "stderr",
       "text": [
        "INFO:interface:stdout 2014-10-08T11:25:10.995837:iteration 2\n"
       ]
      },
      {
       "output_type": "stream",
       "stream": "stderr",
       "text": [
        "INFO:interface:stdout 2014-10-08T11:25:11.019106:mean parameters: 0.013559674465951167\n"
       ]
      },
      {
       "output_type": "stream",
       "stream": "stderr",
       "text": [
        "INFO:interface:stdout 2014-10-08T11:25:11.020090:diff parameters: 0.011390490622110474\n"
       ]
      },
      {
       "output_type": "stream",
       "stream": "stderr",
       "text": [
        "INFO:interface:stdout 2014-10-08T11:25:12.085825:iteration 3\n"
       ]
      },
      {
       "output_type": "stream",
       "stream": "stderr",
       "text": [
        "INFO:interface:stdout 2014-10-08T11:25:12.109079:mean parameters: 0.009698280057654995\n"
       ]
      },
      {
       "output_type": "stream",
       "stream": "stderr",
       "text": [
        "INFO:interface:stdout 2014-10-08T11:25:12.109079:diff parameters: 0.003861394408296172\n"
       ]
      },
      {
       "output_type": "stream",
       "stream": "stderr",
       "text": [
        "INFO:interface:stdout 2014-10-08T11:25:13.197874:iteration 4\n"
       ]
      },
      {
       "output_type": "stream",
       "stream": "stderr",
       "text": [
        "INFO:interface:stdout 2014-10-08T11:25:13.219523:mean parameters: 0.008623307046790124\n"
       ]
      },
      {
       "output_type": "stream",
       "stream": "stderr",
       "text": [
        "INFO:interface:stdout 2014-10-08T11:25:13.220184:diff parameters: 0.0010749730108648714\n"
       ]
      },
      {
       "output_type": "stream",
       "stream": "stderr",
       "text": [
        "INFO:interface:stdout 2014-10-08T11:25:14.325797:iteration 5\n"
       ]
      },
      {
       "output_type": "stream",
       "stream": "stderr",
       "text": [
        "INFO:interface:stdout 2014-10-08T11:25:14.348814:mean parameters: 0.008308390993678324\n"
       ]
      },
      {
       "output_type": "stream",
       "stream": "stderr",
       "text": [
        "INFO:interface:stdout 2014-10-08T11:25:14.349659:diff parameters: 3.1491605311179983E-4\n"
       ]
      },
      {
       "output_type": "stream",
       "stream": "stderr",
       "text": [
        "INFO:interface:stdout 2014-10-08T11:25:15.457711:iteration 6\n"
       ]
      },
      {
       "output_type": "stream",
       "stream": "stderr",
       "text": [
        "INFO:interface:stdout 2014-10-08T11:25:15.480807:mean parameters: 0.008212212609716494\n"
       ]
      },
      {
       "output_type": "stream",
       "stream": "stderr",
       "text": [
        "INFO:interface:stdout 2014-10-08T11:25:15.481615:diff parameters: 9.617838396182993E-5\n"
       ]
      },
      {
       "output_type": "stream",
       "stream": "stderr",
       "text": [
        "INFO:interface:stdout 2014-10-08T11:25:16.799589:background-based skull strippingimage: [4.9592734E-5, 0.9918051]\n"
       ]
      },
      {
       "output_type": "stream",
       "stream": "stderr",
       "text": [
        "INFO:interface:stdout 2014-10-08T11:25:16.800355:scaled dimensions: 16 x 16 x 11\n"
       ]
      },
      {
       "output_type": "stream",
       "stream": "stderr",
       "text": [
        "INFO:interface:stdout 2014-10-08T11:25:17.034147:min obj size: 2816\n"
       ]
      },
      {
       "output_type": "stream",
       "stream": "stderr",
       "text": [
        "INFO:interface:stdout 2014-10-08T11:25:17.034898:max obj size: 278\n"
       ]
      },
      {
       "output_type": "stream",
       "stream": "stderr",
       "text": [
        "INFO:interface:stdout 2014-10-08T11:25:17.034898:rng obj size: 1886\n"
       ]
      },
      {
       "output_type": "stream",
       "stream": "stderr",
       "text": [
        "INFO:interface:stdout 2014-10-08T11:25:17.036117:and obj size: 278\n"
       ]
      },
      {
       "output_type": "stream",
       "stream": "stderr",
       "text": [
        "INFO:interface:stdout 2014-10-08T11:25:17.063265:main obj size: 280\n"
       ]
      },
      {
       "output_type": "stream",
       "stream": "stderr",
       "text": [
        "INFO:interface:stdout 2014-10-08T11:25:17.068559:boundary size: 228\n"
       ]
      },
      {
       "output_type": "stream",
       "stream": "stderr",
       "text": [
        "INFO:interface:stdout 2014-10-08T11:25:17.078584:scaled dimensions: 32 x 32 x 22\n"
       ]
      },
      {
       "output_type": "stream",
       "stream": "stderr",
       "text": [
        "INFO:interface:stdout 2014-10-08T11:25:17.349187:scaled dimensions: 64 x 64 x 44\n"
       ]
      },
      {
       "output_type": "stream",
       "stream": "stderr",
       "text": [
        "INFO:interface:stdout 2014-10-08T11:25:17.694736:edu.jhu.ece.iacl.jist.structures.image.ImageDataFloat\tImageDataFloat: 2Free image:S7_mp2rage_whole_brain_UNI_Images\n"
       ]
      },
      {
       "output_type": "stream",
       "stream": "stderr",
       "text": [
        "INFO:interface:stdout 2014-10-08T11:25:17.694736:edu.jhu.ece.iacl.jist.structures.image.ImageDataFloat\tImageDataFloat: 1Free image:S6_mp2rage_whole_brain_T1_Images\n"
       ]
      },
      {
       "output_type": "stream",
       "stream": "stderr",
       "text": [
        "INFO:interface:stdout 2014-10-08T11:25:17.695869:edu.jhu.ece.iacl.jist.structures.image.ImageDataFloat\tImageDataFloat: 0Free image:S4_mp2rage_whole_brain_INV2\n"
       ]
      },
      {
       "output_type": "stream",
       "stream": "stderr",
       "text": [
        "INFO:interface:stdout 2014-10-08T11:25:17.965736:scaled dimensions: 128 x 128 x 88\n"
       ]
      },
      {
       "output_type": "stream",
       "stream": "stderr",
       "text": [
        "INFO:interface:stdout 2014-10-08T11:25:23.378723:region size: 2049984\n"
       ]
      },
      {
       "output_type": "stream",
       "stream": "stderr",
       "text": [
        "INFO:interface:stdout 2014-10-08T11:25:24.594243:LUT loaded from: file:/home/gdholla1/mipav/plugins/de/mpg/cbs/structures/critical66LUT.raw.gz\n"
       ]
      },
      {
       "output_type": "stream",
       "stream": "stderr",
       "text": [
        "INFO:interface:stdout 2014-10-08T11:25:24.847777:initialization\n"
       ]
      },
      {
       "output_type": "stream",
       "stream": "stderr",
       "text": [
        "INFO:interface:stdout 2014-10-08T11:25:24.848595:fast marching init\n"
       ]
      },
      {
       "output_type": "stream",
       "stream": "stderr",
       "text": [
        "INFO:interface:stdout 2014-10-08T11:25:26.706797:init\n"
       ]
      },
      {
       "output_type": "stream",
       "stream": "stderr",
       "text": [
        "INFO:interface:stdout 2014-10-08T11:25:36.547019:done\n"
       ]
      },
      {
       "output_type": "stream",
       "stream": "stderr",
       "text": [
        "INFO:interface:stdout 2014-10-08T11:25:36.588853:GDM forces: 0.0 (field), 0.1 (balloon), 0.9 (smoothing)\n"
       ]
      },
      {
       "output_type": "stream",
       "stream": "stderr",
       "text": [
        "INFO:interface:stdout 2014-10-08T11:25:37.267279:LUT loaded from: file:/home/gdholla1/mipav/plugins/de/mpg/cbs/structures/critical66LUT.raw.gz\n"
       ]
      },
      {
       "output_type": "stream",
       "stream": "stderr",
       "text": [
        "INFO:interface:stdout 2014-10-08T11:25:37.267686:initial GDM decomposition\n"
       ]
      },
      {
       "output_type": "stream",
       "stream": "stderr",
       "text": [
        "INFO:interface:stdout 2014-10-08T11:25:37.525598:fast marching\n"
       ]
      },
      {
       "output_type": "stream",
       "stream": "stderr",
       "text": [
        "INFO:interface:stdout 2014-10-08T11:25:37.863837:init\n"
       ]
      },
      {
       "output_type": "stream",
       "stream": "stderr",
       "text": [
        "INFO:interface:stdout 2014-10-08T11:25:51.714237:done\n"
       ]
      },
      {
       "output_type": "stream",
       "stream": "stderr",
       "text": [
        "INFO:interface:stdout 2014-10-08T11:25:51.714817:initialization\n"
       ]
      },
      {
       "output_type": "stream",
       "stream": "stderr",
       "text": [
        "INFO:interface:stdout 2014-10-08T11:25:51.714817:level set evolution: narrow band\n"
       ]
      },
      {
       "output_type": "stream",
       "stream": "stderr",
       "text": [
        "INFO:interface:stdout 2014-10-08T11:25:51.805443:init (1353272)\n"
       ]
      },
      {
       "output_type": "stream",
       "stream": "stderr",
       "text": [
        "INFO:interface:stdout 2014-10-08T11:25:51.934626:iteration 0\n"
       ]
      },
      {
       "output_type": "stream",
       "stream": "stderr",
       "text": [
        "INFO:interface:stdout 2014-10-08T11:25:52.131724:changed labels: 3234\n"
       ]
      },
      {
       "output_type": "stream",
       "stream": "stderr",
       "text": [
        "INFO:interface:stdout 2014-10-08T11:25:52.137978:iteration 1\n"
       ]
      },
      {
       "output_type": "stream",
       "stream": "stderr",
       "text": [
        "INFO:interface:stdout 2014-10-08T11:25:52.291084:changed labels: 9607\n"
       ]
      },
      {
       "output_type": "stream",
       "stream": "stderr",
       "text": [
        "INFO:interface:stdout 2014-10-08T11:25:52.297405:iteration 2\n"
       ]
      },
      {
       "output_type": "stream",
       "stream": "stderr",
       "text": [
        "INFO:interface:stdout 2014-10-08T11:25:52.442740:changed labels: 4562\n"
       ]
      },
      {
       "output_type": "stream",
       "stream": "stderr",
       "text": [
        "INFO:interface:stdout 2014-10-08T11:25:52.449038:iteration 3\n"
       ]
      },
      {
       "output_type": "stream",
       "stream": "stderr",
       "text": [
        "INFO:interface:stdout 2014-10-08T11:25:52.592742:changed labels: 4510\n"
       ]
      },
      {
       "output_type": "stream",
       "stream": "stderr",
       "text": [
        "INFO:interface:stdout 2014-10-08T11:25:52.599012:iteration 4\n"
       ]
      },
      {
       "output_type": "stream",
       "stream": "stderr",
       "text": [
        "INFO:interface:stdout 2014-10-08T11:25:52.742416:changed labels: 4428\n"
       ]
      },
      {
       "output_type": "stream",
       "stream": "stderr",
       "text": [
        "INFO:interface:stdout 2014-10-08T11:25:52.748636:iteration 5\n"
       ]
      },
      {
       "output_type": "stream",
       "stream": "stderr",
       "text": [
        "INFO:interface:stdout 2014-10-08T11:25:52.891356:changed labels: 4019\n"
       ]
      },
      {
       "output_type": "stream",
       "stream": "stderr",
       "text": [
        "INFO:interface:stdout 2014-10-08T11:25:52.897651:iteration 6\n"
       ]
      },
      {
       "output_type": "stream",
       "stream": "stderr",
       "text": [
        "INFO:interface:stdout 2014-10-08T11:25:53.039894:changed labels: 4216\n"
       ]
      },
      {
       "output_type": "stream",
       "stream": "stderr",
       "text": [
        "INFO:interface:stdout 2014-10-08T11:25:53.046226:iteration 7\n"
       ]
      },
      {
       "output_type": "stream",
       "stream": "stderr",
       "text": [
        "INFO:interface:stdout 2014-10-08T11:25:53.188427:changed labels: 4088\n"
       ]
      },
      {
       "output_type": "stream",
       "stream": "stderr",
       "text": [
        "INFO:interface:stdout 2014-10-08T11:25:53.194275:iteration 8\n"
       ]
      },
      {
       "output_type": "stream",
       "stream": "stderr",
       "text": [
        "INFO:interface:stdout 2014-10-08T11:25:53.335795:changed labels: 4044\n"
       ]
      },
      {
       "output_type": "stream",
       "stream": "stderr",
       "text": [
        "INFO:interface:stdout 2014-10-08T11:25:53.342057:iteration 9\n"
       ]
      },
      {
       "output_type": "stream",
       "stream": "stderr",
       "text": [
        "INFO:interface:stdout 2014-10-08T11:25:53.484281:changed labels: 4412\n"
       ]
      },
      {
       "output_type": "stream",
       "stream": "stderr",
       "text": [
        "INFO:interface:stdout 2014-10-08T11:25:53.490568:iteration 10\n"
       ]
      },
      {
       "output_type": "stream",
       "stream": "stderr",
       "text": [
        "INFO:interface:stdout 2014-10-08T11:25:53.633263:changed labels: 4390\n"
       ]
      },
      {
       "output_type": "stream",
       "stream": "stderr",
       "text": [
        "INFO:interface:stdout 2014-10-08T11:25:53.639512:iteration 11\n"
       ]
      },
      {
       "output_type": "stream",
       "stream": "stderr",
       "text": [
        "INFO:interface:stdout 2014-10-08T11:25:53.781949:changed labels: 4545\n"
       ]
      },
      {
       "output_type": "stream",
       "stream": "stderr",
       "text": [
        "INFO:interface:stdout 2014-10-08T11:25:53.788236:iteration 12\n"
       ]
      },
      {
       "output_type": "stream",
       "stream": "stderr",
       "text": [
        "INFO:interface:stdout 2014-10-08T11:25:53.931868:changed labels: 5858\n"
       ]
      },
      {
       "output_type": "stream",
       "stream": "stderr",
       "text": [
        "INFO:interface:stdout 2014-10-08T11:25:53.938113:iteration 13\n"
       ]
      },
      {
       "output_type": "stream",
       "stream": "stderr",
       "text": [
        "INFO:interface:stdout 2014-10-08T11:25:54.081848:changed labels: 5455\n"
       ]
      },
      {
       "output_type": "stream",
       "stream": "stderr",
       "text": [
        "INFO:interface:stdout 2014-10-08T11:25:54.087728:iteration 14\n"
       ]
      },
      {
       "output_type": "stream",
       "stream": "stderr",
       "text": [
        "INFO:interface:stdout 2014-10-08T11:25:54.228907:changed labels: 4392\n"
       ]
      },
      {
       "output_type": "stream",
       "stream": "stderr",
       "text": [
        "INFO:interface:stdout 2014-10-08T11:25:54.234758:iteration 15\n"
       ]
      },
      {
       "output_type": "stream",
       "stream": "stderr",
       "text": [
        "INFO:interface:stdout 2014-10-08T11:25:54.376210:changed labels: 4154\n"
       ]
      },
      {
       "output_type": "stream",
       "stream": "stderr",
       "text": [
        "INFO:interface:stdout 2014-10-08T11:25:54.382453:iteration 16\n"
       ]
      },
      {
       "output_type": "stream",
       "stream": "stderr",
       "text": [
        "INFO:interface:stdout 2014-10-08T11:25:54.523130:changed labels: 3861\n"
       ]
      },
      {
       "output_type": "stream",
       "stream": "stderr",
       "text": [
        "INFO:interface:stdout 2014-10-08T11:25:54.529005:iteration 17\n"
       ]
      },
      {
       "output_type": "stream",
       "stream": "stderr",
       "text": [
        "INFO:interface:stdout 2014-10-08T11:25:54.669414:changed labels: 3517\n"
       ]
      },
      {
       "output_type": "stream",
       "stream": "stderr",
       "text": [
        "INFO:interface:stdout 2014-10-08T11:25:54.675260:iteration 18\n"
       ]
      },
      {
       "output_type": "stream",
       "stream": "stderr",
       "text": [
        "INFO:interface:stdout 2014-10-08T11:25:54.815845:changed labels: 3299\n"
       ]
      },
      {
       "output_type": "stream",
       "stream": "stderr",
       "text": [
        "INFO:interface:stdout 2014-10-08T11:25:54.822107:iteration 19\n"
       ]
      },
      {
       "output_type": "stream",
       "stream": "stderr",
       "text": [
        "INFO:interface:stdout 2014-10-08T11:25:54.961739:changed labels: 3231\n"
       ]
      },
      {
       "output_type": "stream",
       "stream": "stderr",
       "text": [
        "INFO:interface:stdout 2014-10-08T11:25:54.968022:iteration 20\n"
       ]
      },
      {
       "output_type": "stream",
       "stream": "stderr",
       "text": [
        "INFO:interface:stdout 2014-10-08T11:25:55.107695:changed labels: 3073\n"
       ]
      },
      {
       "output_type": "stream",
       "stream": "stderr",
       "text": [
        "INFO:interface:stdout 2014-10-08T11:25:55.113941:iteration 21\n"
       ]
      },
      {
       "output_type": "stream",
       "stream": "stderr",
       "text": [
        "INFO:interface:stdout 2014-10-08T11:25:55.254204:changed labels: 3147\n"
       ]
      },
      {
       "output_type": "stream",
       "stream": "stderr",
       "text": [
        "INFO:interface:stdout 2014-10-08T11:25:55.260484:iteration 22\n"
       ]
      },
      {
       "output_type": "stream",
       "stream": "stderr",
       "text": [
        "INFO:interface:stdout 2014-10-08T11:25:55.399674:changed labels: 2968\n"
       ]
      },
      {
       "output_type": "stream",
       "stream": "stderr",
       "text": [
        "INFO:interface:stdout 2014-10-08T11:25:55.405901:iteration 23\n"
       ]
      },
      {
       "output_type": "stream",
       "stream": "stderr",
       "text": [
        "INFO:interface:stdout 2014-10-08T11:25:55.545380:changed labels: 2981\n"
       ]
      },
      {
       "output_type": "stream",
       "stream": "stderr",
       "text": [
        "INFO:interface:stdout 2014-10-08T11:25:55.551750:iteration 24\n"
       ]
      },
      {
       "output_type": "stream",
       "stream": "stderr",
       "text": [
        "INFO:interface:stdout 2014-10-08T11:25:55.691418:changed labels: 3144\n"
       ]
      },
      {
       "output_type": "stream",
       "stream": "stderr",
       "text": [
        "INFO:interface:stdout 2014-10-08T11:25:55.697676:iteration 25\n"
       ]
      },
      {
       "output_type": "stream",
       "stream": "stderr",
       "text": [
        "INFO:interface:stdout 2014-10-08T11:25:55.837081:changed labels: 3022\n"
       ]
      },
      {
       "output_type": "stream",
       "stream": "stderr",
       "text": [
        "INFO:interface:stdout 2014-10-08T11:25:55.843285:iteration 26\n"
       ]
      },
      {
       "output_type": "stream",
       "stream": "stderr",
       "text": [
        "INFO:interface:stdout 2014-10-08T11:25:55.982703:changed labels: 3115\n"
       ]
      },
      {
       "output_type": "stream",
       "stream": "stderr",
       "text": [
        "INFO:interface:stdout 2014-10-08T11:25:55.988582:iteration 27\n"
       ]
      },
      {
       "output_type": "stream",
       "stream": "stderr",
       "text": [
        "INFO:interface:stdout 2014-10-08T11:25:56.128136:changed labels: 2965\n"
       ]
      },
      {
       "output_type": "stream",
       "stream": "stderr",
       "text": [
        "INFO:interface:stdout 2014-10-08T11:25:56.134402:iteration 28\n"
       ]
      },
      {
       "output_type": "stream",
       "stream": "stderr",
       "text": [
        "INFO:interface:stdout 2014-10-08T11:25:56.273721:changed labels: 2986\n"
       ]
      },
      {
       "output_type": "stream",
       "stream": "stderr",
       "text": [
        "INFO:interface:stdout 2014-10-08T11:25:56.280041:iteration 29\n"
       ]
      },
      {
       "output_type": "stream",
       "stream": "stderr",
       "text": [
        "INFO:interface:stdout 2014-10-08T11:25:56.419634:changed labels: 2991\n"
       ]
      },
      {
       "output_type": "stream",
       "stream": "stderr",
       "text": [
        "INFO:interface:stdout 2014-10-08T11:25:56.425891:iteration 30\n"
       ]
      },
      {
       "output_type": "stream",
       "stream": "stderr",
       "text": [
        "INFO:interface:stdout 2014-10-08T11:25:56.565132:changed labels: 2999\n"
       ]
      },
      {
       "output_type": "stream",
       "stream": "stderr",
       "text": [
        "INFO:interface:stdout 2014-10-08T11:25:56.570984:iteration 31\n"
       ]
      },
      {
       "output_type": "stream",
       "stream": "stderr",
       "text": [
        "INFO:interface:stdout 2014-10-08T11:25:56.710066:changed labels: 3187\n"
       ]
      },
      {
       "output_type": "stream",
       "stream": "stderr",
       "text": [
        "INFO:interface:stdout 2014-10-08T11:25:56.715969:iteration 32\n"
       ]
      },
      {
       "output_type": "stream",
       "stream": "stderr",
       "text": [
        "INFO:interface:stdout 2014-10-08T11:25:56.855327:changed labels: 2998\n"
       ]
      },
      {
       "output_type": "stream",
       "stream": "stderr",
       "text": [
        "INFO:interface:stdout 2014-10-08T11:25:56.861591:iteration 33\n"
       ]
      },
      {
       "output_type": "stream",
       "stream": "stderr",
       "text": [
        "INFO:interface:stdout 2014-10-08T11:25:57.000560:changed labels: 3157\n"
       ]
      },
      {
       "output_type": "stream",
       "stream": "stderr",
       "text": [
        "INFO:interface:stdout 2014-10-08T11:25:57.006419:iteration 34\n"
       ]
      },
      {
       "output_type": "stream",
       "stream": "stderr",
       "text": [
        "INFO:interface:stdout 2014-10-08T11:25:57.145151:changed labels: 3112\n"
       ]
      },
      {
       "output_type": "stream",
       "stream": "stderr",
       "text": [
        "INFO:interface:stdout 2014-10-08T11:25:57.151025:iteration 35\n"
       ]
      },
      {
       "output_type": "stream",
       "stream": "stderr",
       "text": [
        "INFO:interface:stdout 2014-10-08T11:25:57.290520:changed labels: 3187\n"
       ]
      },
      {
       "output_type": "stream",
       "stream": "stderr",
       "text": [
        "INFO:interface:stdout 2014-10-08T11:25:57.296801:iteration 36\n"
       ]
      },
      {
       "output_type": "stream",
       "stream": "stderr",
       "text": [
        "INFO:interface:stdout 2014-10-08T11:25:57.436742:changed labels: 3176\n"
       ]
      },
      {
       "output_type": "stream",
       "stream": "stderr",
       "text": [
        "INFO:interface:stdout 2014-10-08T11:25:57.443002:iteration 37\n"
       ]
      },
      {
       "output_type": "stream",
       "stream": "stderr",
       "text": [
        "INFO:interface:stdout 2014-10-08T11:25:57.582209:changed labels: 3071\n"
       ]
      },
      {
       "output_type": "stream",
       "stream": "stderr",
       "text": [
        "INFO:interface:stdout 2014-10-08T11:25:57.588088:iteration 38\n"
       ]
      },
      {
       "output_type": "stream",
       "stream": "stderr",
       "text": [
        "INFO:interface:stdout 2014-10-08T11:25:57.728035:changed labels: 3225\n"
       ]
      },
      {
       "output_type": "stream",
       "stream": "stderr",
       "text": [
        "INFO:interface:stdout 2014-10-08T11:25:57.734337:iteration 39\n"
       ]
      },
      {
       "output_type": "stream",
       "stream": "stderr",
       "text": [
        "INFO:interface:stdout 2014-10-08T11:25:57.874022:changed labels: 3355\n"
       ]
      },
      {
       "output_type": "stream",
       "stream": "stderr",
       "text": [
        "INFO:interface:stdout 2014-10-08T11:25:57.880286:iteration 40\n"
       ]
      },
      {
       "output_type": "stream",
       "stream": "stderr",
       "text": [
        "INFO:interface:stdout 2014-10-08T11:25:58.019617:changed labels: 3281\n"
       ]
      },
      {
       "output_type": "stream",
       "stream": "stderr",
       "text": [
        "INFO:interface:stdout 2014-10-08T11:25:58.025858:iteration 41\n"
       ]
      },
      {
       "output_type": "stream",
       "stream": "stderr",
       "text": [
        "INFO:interface:stdout 2014-10-08T11:25:58.165396:changed labels: 3256\n"
       ]
      },
      {
       "output_type": "stream",
       "stream": "stderr",
       "text": [
        "INFO:interface:stdout 2014-10-08T11:25:58.171730:iteration 42\n"
       ]
      },
      {
       "output_type": "stream",
       "stream": "stderr",
       "text": [
        "INFO:interface:stdout 2014-10-08T11:25:58.311493:changed labels: 3400\n"
       ]
      },
      {
       "output_type": "stream",
       "stream": "stderr",
       "text": [
        "INFO:interface:stdout 2014-10-08T11:25:58.317798:iteration 43\n"
       ]
      },
      {
       "output_type": "stream",
       "stream": "stderr",
       "text": [
        "INFO:interface:stdout 2014-10-08T11:25:58.457642:changed labels: 3148\n"
       ]
      },
      {
       "output_type": "stream",
       "stream": "stderr",
       "text": [
        "INFO:interface:stdout 2014-10-08T11:25:58.463939:iteration 44\n"
       ]
      },
      {
       "output_type": "stream",
       "stream": "stderr",
       "text": [
        "INFO:interface:stdout 2014-10-08T11:25:58.603481:changed labels: 3305\n"
       ]
      },
      {
       "output_type": "stream",
       "stream": "stderr",
       "text": [
        "INFO:interface:stdout 2014-10-08T11:25:58.609752:iteration 45\n"
       ]
      },
      {
       "output_type": "stream",
       "stream": "stderr",
       "text": [
        "INFO:interface:stdout 2014-10-08T11:25:58.749469:changed labels: 3253\n"
       ]
      },
      {
       "output_type": "stream",
       "stream": "stderr",
       "text": [
        "INFO:interface:stdout 2014-10-08T11:25:58.755786:iteration 46\n"
       ]
      },
      {
       "output_type": "stream",
       "stream": "stderr",
       "text": [
        "INFO:interface:stdout 2014-10-08T11:25:58.895629:changed labels: 3149\n"
       ]
      },
      {
       "output_type": "stream",
       "stream": "stderr",
       "text": [
        "INFO:interface:stdout 2014-10-08T11:25:58.901862:iteration 47\n"
       ]
      },
      {
       "output_type": "stream",
       "stream": "stderr",
       "text": [
        "INFO:interface:stdout 2014-10-08T11:25:59.041420:changed labels: 3195\n"
       ]
      },
      {
       "output_type": "stream",
       "stream": "stderr",
       "text": [
        "INFO:interface:stdout 2014-10-08T11:25:59.047692:iteration 48\n"
       ]
      },
      {
       "output_type": "stream",
       "stream": "stderr",
       "text": [
        "INFO:interface:stdout 2014-10-08T11:25:59.187330:changed labels: 3198\n"
       ]
      },
      {
       "output_type": "stream",
       "stream": "stderr",
       "text": [
        "INFO:interface:stdout 2014-10-08T11:25:59.193612:iteration 49\n"
       ]
      },
      {
       "output_type": "stream",
       "stream": "stderr",
       "text": [
        "INFO:interface:stdout 2014-10-08T11:25:59.332849:changed labels: 3116\n"
       ]
      },
      {
       "output_type": "stream",
       "stream": "stderr",
       "text": [
        "INFO:interface:stdout 2014-10-08T11:25:59.339129:iteration 50\n"
       ]
      },
      {
       "output_type": "stream",
       "stream": "stderr",
       "text": [
        "INFO:interface:stdout 2014-10-08T11:25:59.478433:changed labels: 3155\n"
       ]
      },
      {
       "output_type": "stream",
       "stream": "stderr",
       "text": [
        "INFO:interface:stdout 2014-10-08T11:25:59.484731:iteration 51\n"
       ]
      },
      {
       "output_type": "stream",
       "stream": "stderr",
       "text": [
        "INFO:interface:stdout 2014-10-08T11:25:59.625540:changed labels: 3109\n"
       ]
      },
      {
       "output_type": "stream",
       "stream": "stderr",
       "text": [
        "INFO:interface:stdout 2014-10-08T11:25:59.631962:iteration 52\n"
       ]
      },
      {
       "output_type": "stream",
       "stream": "stderr",
       "text": [
        "INFO:interface:stdout 2014-10-08T11:25:59.771405:changed labels: 3148\n"
       ]
      },
      {
       "output_type": "stream",
       "stream": "stderr",
       "text": [
        "INFO:interface:stdout 2014-10-08T11:25:59.777839:iteration 53\n"
       ]
      },
      {
       "output_type": "stream",
       "stream": "stderr",
       "text": [
        "INFO:interface:stdout 2014-10-08T11:25:59.917218:changed labels: 3123\n"
       ]
      },
      {
       "output_type": "stream",
       "stream": "stderr",
       "text": [
        "INFO:interface:stdout 2014-10-08T11:25:59.923621:iteration 54\n"
       ]
      },
      {
       "output_type": "stream",
       "stream": "stderr",
       "text": [
        "INFO:interface:stdout 2014-10-08T11:26:00.063421:changed labels: 3120\n"
       ]
      },
      {
       "output_type": "stream",
       "stream": "stderr",
       "text": [
        "INFO:interface:stdout 2014-10-08T11:26:00.069890:iteration 55\n"
       ]
      },
      {
       "output_type": "stream",
       "stream": "stderr",
       "text": [
        "INFO:interface:stdout 2014-10-08T11:26:00.209264:changed labels: 3091\n"
       ]
      },
      {
       "output_type": "stream",
       "stream": "stderr",
       "text": [
        "INFO:interface:stdout 2014-10-08T11:26:00.215701:iteration 56\n"
       ]
      },
      {
       "output_type": "stream",
       "stream": "stderr",
       "text": [
        "INFO:interface:stdout 2014-10-08T11:26:00.355124:changed labels: 3051\n"
       ]
      },
      {
       "output_type": "stream",
       "stream": "stderr",
       "text": [
        "INFO:interface:stdout 2014-10-08T11:26:00.361567:iteration 57\n"
       ]
      },
      {
       "output_type": "stream",
       "stream": "stderr",
       "text": [
        "INFO:interface:stdout 2014-10-08T11:26:00.500937:changed labels: 3168\n"
       ]
      },
      {
       "output_type": "stream",
       "stream": "stderr",
       "text": [
        "INFO:interface:stdout 2014-10-08T11:26:00.507324:iteration 58\n"
       ]
      },
      {
       "output_type": "stream",
       "stream": "stderr",
       "text": [
        "INFO:interface:stdout 2014-10-08T11:26:00.646990:changed labels: 3182\n"
       ]
      },
      {
       "output_type": "stream",
       "stream": "stderr",
       "text": [
        "INFO:interface:stdout 2014-10-08T11:26:00.653395:iteration 59\n"
       ]
      },
      {
       "output_type": "stream",
       "stream": "stderr",
       "text": [
        "INFO:interface:stdout 2014-10-08T11:26:00.793343:changed labels: 3228\n"
       ]
      },
      {
       "output_type": "stream",
       "stream": "stderr",
       "text": [
        "INFO:interface:stdout 2014-10-08T11:26:00.799747:iteration 60\n"
       ]
      },
      {
       "output_type": "stream",
       "stream": "stderr",
       "text": [
        "INFO:interface:stdout 2014-10-08T11:26:00.939595:changed labels: 3258\n"
       ]
      },
      {
       "output_type": "stream",
       "stream": "stderr",
       "text": [
        "INFO:interface:stdout 2014-10-08T11:26:00.945992:iteration 61\n"
       ]
      },
      {
       "output_type": "stream",
       "stream": "stderr",
       "text": [
        "INFO:interface:stdout 2014-10-08T11:26:01.085611:changed labels: 3284\n"
       ]
      },
      {
       "output_type": "stream",
       "stream": "stderr",
       "text": [
        "INFO:interface:stdout 2014-10-08T11:26:01.092064:iteration 62\n"
       ]
      },
      {
       "output_type": "stream",
       "stream": "stderr",
       "text": [
        "INFO:interface:stdout 2014-10-08T11:26:01.232167:changed labels: 3222\n"
       ]
      },
      {
       "output_type": "stream",
       "stream": "stderr",
       "text": [
        "INFO:interface:stdout 2014-10-08T11:26:01.238628:iteration 63\n"
       ]
      },
      {
       "output_type": "stream",
       "stream": "stderr",
       "text": [
        "INFO:interface:stdout 2014-10-08T11:26:01.378010:changed labels: 3125\n"
       ]
      },
      {
       "output_type": "stream",
       "stream": "stderr",
       "text": [
        "INFO:interface:stdout 2014-10-08T11:26:01.384401:iteration 64\n"
       ]
      },
      {
       "output_type": "stream",
       "stream": "stderr",
       "text": [
        "INFO:interface:stdout 2014-10-08T11:26:01.523902:changed labels: 3199\n"
       ]
      },
      {
       "output_type": "stream",
       "stream": "stderr",
       "text": [
        "INFO:interface:stdout 2014-10-08T11:26:01.530311:iteration 65\n"
       ]
      },
      {
       "output_type": "stream",
       "stream": "stderr",
       "text": [
        "INFO:interface:stdout 2014-10-08T11:26:01.670002:changed labels: 3183\n"
       ]
      },
      {
       "output_type": "stream",
       "stream": "stderr",
       "text": [
        "INFO:interface:stdout 2014-10-08T11:26:01.676462:iteration 66\n"
       ]
      },
      {
       "output_type": "stream",
       "stream": "stderr",
       "text": [
        "INFO:interface:stdout 2014-10-08T11:26:01.815862:changed labels: 3151\n"
       ]
      },
      {
       "output_type": "stream",
       "stream": "stderr",
       "text": [
        "INFO:interface:stdout 2014-10-08T11:26:01.822281:iteration 67\n"
       ]
      },
      {
       "output_type": "stream",
       "stream": "stderr",
       "text": [
        "INFO:interface:stdout 2014-10-08T11:26:01.961585:changed labels: 3162\n"
       ]
      },
      {
       "output_type": "stream",
       "stream": "stderr",
       "text": [
        "INFO:interface:stdout 2014-10-08T11:26:01.967984:iteration 68\n"
       ]
      },
      {
       "output_type": "stream",
       "stream": "stderr",
       "text": [
        "INFO:interface:stdout 2014-10-08T11:26:02.107979:changed labels: 3280\n"
       ]
      },
      {
       "output_type": "stream",
       "stream": "stderr",
       "text": [
        "INFO:interface:stdout 2014-10-08T11:26:02.114369:iteration 69\n"
       ]
      },
      {
       "output_type": "stream",
       "stream": "stderr",
       "text": [
        "INFO:interface:stdout 2014-10-08T11:26:02.254335:changed labels: 3210\n"
       ]
      },
      {
       "output_type": "stream",
       "stream": "stderr",
       "text": [
        "INFO:interface:stdout 2014-10-08T11:26:02.260744:iteration 70\n"
       ]
      },
      {
       "output_type": "stream",
       "stream": "stderr",
       "text": [
        "INFO:interface:stdout 2014-10-08T11:26:02.400397:changed labels: 3249\n"
       ]
      },
      {
       "output_type": "stream",
       "stream": "stderr",
       "text": [
        "INFO:interface:stdout 2014-10-08T11:26:02.406789:iteration 71\n"
       ]
      },
      {
       "output_type": "stream",
       "stream": "stderr",
       "text": [
        "INFO:interface:stdout 2014-10-08T11:26:02.547299:changed labels: 3224\n"
       ]
      },
      {
       "output_type": "stream",
       "stream": "stderr",
       "text": [
        "INFO:interface:stdout 2014-10-08T11:26:02.553756:iteration 72\n"
       ]
      },
      {
       "output_type": "stream",
       "stream": "stderr",
       "text": [
        "INFO:interface:stdout 2014-10-08T11:26:02.693951:changed labels: 3280\n"
       ]
      },
      {
       "output_type": "stream",
       "stream": "stderr",
       "text": [
        "INFO:interface:stdout 2014-10-08T11:26:02.700364:iteration 73\n"
       ]
      },
      {
       "output_type": "stream",
       "stream": "stderr",
       "text": [
        "INFO:interface:stdout 2014-10-08T11:26:02.840238:changed labels: 3284\n"
       ]
      },
      {
       "output_type": "stream",
       "stream": "stderr",
       "text": [
        "INFO:interface:stdout 2014-10-08T11:26:02.846665:iteration 74\n"
       ]
      },
      {
       "output_type": "stream",
       "stream": "stderr",
       "text": [
        "INFO:interface:stdout 2014-10-08T11:26:02.986391:changed labels: 3360\n"
       ]
      },
      {
       "output_type": "stream",
       "stream": "stderr",
       "text": [
        "INFO:interface:stdout 2014-10-08T11:26:02.992845:iteration 75\n"
       ]
      },
      {
       "output_type": "stream",
       "stream": "stderr",
       "text": [
        "INFO:interface:stdout 2014-10-08T11:26:03.132307:changed labels: 3194\n"
       ]
      },
      {
       "output_type": "stream",
       "stream": "stderr",
       "text": [
        "INFO:interface:stdout 2014-10-08T11:26:03.138758:iteration 76\n"
       ]
      },
      {
       "output_type": "stream",
       "stream": "stderr",
       "text": [
        "INFO:interface:stdout 2014-10-08T11:26:03.278975:changed labels: 3254\n"
       ]
      },
      {
       "output_type": "stream",
       "stream": "stderr",
       "text": [
        "INFO:interface:stdout 2014-10-08T11:26:03.285399:iteration 77\n"
       ]
      },
      {
       "output_type": "stream",
       "stream": "stderr",
       "text": [
        "INFO:interface:stdout 2014-10-08T11:26:03.425124:changed labels: 3362\n"
       ]
      },
      {
       "output_type": "stream",
       "stream": "stderr",
       "text": [
        "INFO:interface:stdout 2014-10-08T11:26:03.431494:iteration 78\n"
       ]
      },
      {
       "output_type": "stream",
       "stream": "stderr",
       "text": [
        "INFO:interface:stdout 2014-10-08T11:26:03.571428:changed labels: 3461\n"
       ]
      },
      {
       "output_type": "stream",
       "stream": "stderr",
       "text": [
        "INFO:interface:stdout 2014-10-08T11:26:03.577858:iteration 79\n"
       ]
      },
      {
       "output_type": "stream",
       "stream": "stderr",
       "text": [
        "INFO:interface:stdout 2014-10-08T11:26:03.718502:changed labels: 3372\n"
       ]
      },
      {
       "output_type": "stream",
       "stream": "stderr",
       "text": [
        "INFO:interface:stdout 2014-10-08T11:26:03.725008:iteration 80\n"
       ]
      },
      {
       "output_type": "stream",
       "stream": "stderr",
       "text": [
        "INFO:interface:stdout 2014-10-08T11:26:03.864754:changed labels: 3317\n"
       ]
      },
      {
       "output_type": "stream",
       "stream": "stderr",
       "text": [
        "INFO:interface:stdout 2014-10-08T11:26:03.871135:iteration 81\n"
       ]
      },
      {
       "output_type": "stream",
       "stream": "stderr",
       "text": [
        "INFO:interface:stdout 2014-10-08T11:26:04.010785:changed labels: 3318\n"
       ]
      },
      {
       "output_type": "stream",
       "stream": "stderr",
       "text": [
        "INFO:interface:stdout 2014-10-08T11:26:04.017254:iteration 82\n"
       ]
      },
      {
       "output_type": "stream",
       "stream": "stderr",
       "text": [
        "INFO:interface:stdout 2014-10-08T11:26:04.157224:changed labels: 3350\n"
       ]
      },
      {
       "output_type": "stream",
       "stream": "stderr",
       "text": [
        "INFO:interface:stdout 2014-10-08T11:26:04.163666:iteration 83\n"
       ]
      },
      {
       "output_type": "stream",
       "stream": "stderr",
       "text": [
        "INFO:interface:stdout 2014-10-08T11:26:04.303697:changed labels: 3377\n"
       ]
      },
      {
       "output_type": "stream",
       "stream": "stderr",
       "text": [
        "INFO:interface:stdout 2014-10-08T11:26:04.310117:iteration 84\n"
       ]
      },
      {
       "output_type": "stream",
       "stream": "stderr",
       "text": [
        "INFO:interface:stdout 2014-10-08T11:26:04.450382:changed labels: 3318\n"
       ]
      },
      {
       "output_type": "stream",
       "stream": "stderr",
       "text": [
        "INFO:interface:stdout 2014-10-08T11:26:04.456771:iteration 85\n"
       ]
      },
      {
       "output_type": "stream",
       "stream": "stderr",
       "text": [
        "INFO:interface:stdout 2014-10-08T11:26:04.596676:changed labels: 3433\n"
       ]
      },
      {
       "output_type": "stream",
       "stream": "stderr",
       "text": [
        "INFO:interface:stdout 2014-10-08T11:26:04.603147:re-initialization\n"
       ]
      },
      {
       "output_type": "stream",
       "stream": "stderr",
       "text": [
        "INFO:interface:stdout 2014-10-08T11:26:04.603147:level set evolution: iso-surface reinit\n"
       ]
      },
      {
       "output_type": "stream",
       "stream": "stderr",
       "text": [
        "INFO:interface:stdout 2014-10-08T11:26:04.704390:fast marching\n"
       ]
      },
      {
       "output_type": "stream",
       "stream": "stderr",
       "text": [
        "INFO:interface:stdout 2014-10-08T11:26:05.029728:init\n"
       ]
      },
      {
       "output_type": "stream",
       "stream": "stderr",
       "text": [
        "INFO:interface:stdout 2014-10-08T11:26:07.511608:done\n"
       ]
      },
      {
       "output_type": "stream",
       "stream": "stderr",
       "text": [
        "INFO:interface:stdout 2014-10-08T11:26:07.616340:iteration 86\n"
       ]
      },
      {
       "output_type": "stream",
       "stream": "stderr",
       "text": [
        "INFO:interface:stdout 2014-10-08T11:26:07.752594:changed labels: 3738\n"
       ]
      },
      {
       "output_type": "stream",
       "stream": "stderr",
       "text": [
        "INFO:interface:stdout 2014-10-08T11:26:07.759132:iteration 87\n"
       ]
      },
      {
       "output_type": "stream",
       "stream": "stderr",
       "text": [
        "INFO:interface:stdout 2014-10-08T11:26:07.894209:changed labels: 3133\n"
       ]
      },
      {
       "output_type": "stream",
       "stream": "stderr",
       "text": [
        "INFO:interface:stdout 2014-10-08T11:26:07.900798:iteration 88\n"
       ]
      },
      {
       "output_type": "stream",
       "stream": "stderr",
       "text": [
        "INFO:interface:stdout 2014-10-08T11:26:08.036425:changed labels: 3383\n"
       ]
      },
      {
       "output_type": "stream",
       "stream": "stderr",
       "text": [
        "INFO:interface:stdout 2014-10-08T11:26:08.042969:iteration 89\n"
       ]
      },
      {
       "output_type": "stream",
       "stream": "stderr",
       "text": [
        "INFO:interface:stdout 2014-10-08T11:26:08.178418:changed labels: 3400\n"
       ]
      },
      {
       "output_type": "stream",
       "stream": "stderr",
       "text": [
        "INFO:interface:stdout 2014-10-08T11:26:08.185091:iteration 90\n"
       ]
      },
      {
       "output_type": "stream",
       "stream": "stderr",
       "text": [
        "INFO:interface:stdout 2014-10-08T11:26:08.320410:changed labels: 3305\n"
       ]
      },
      {
       "output_type": "stream",
       "stream": "stderr",
       "text": [
        "INFO:interface:stdout 2014-10-08T11:26:08.326938:iteration 91\n"
       ]
      },
      {
       "output_type": "stream",
       "stream": "stderr",
       "text": [
        "INFO:interface:stdout 2014-10-08T11:26:08.462606:changed labels: 3291\n"
       ]
      },
      {
       "output_type": "stream",
       "stream": "stderr",
       "text": [
        "INFO:interface:stdout 2014-10-08T11:26:08.469154:iteration 92\n"
       ]
      },
      {
       "output_type": "stream",
       "stream": "stderr",
       "text": [
        "INFO:interface:stdout 2014-10-08T11:26:08.604675:changed labels: 3435\n"
       ]
      },
      {
       "output_type": "stream",
       "stream": "stderr",
       "text": [
        "INFO:interface:stdout 2014-10-08T11:26:08.611208:iteration 93\n"
       ]
      },
      {
       "output_type": "stream",
       "stream": "stderr",
       "text": [
        "INFO:interface:stdout 2014-10-08T11:26:08.746776:changed labels: 3347\n"
       ]
      },
      {
       "output_type": "stream",
       "stream": "stderr",
       "text": [
        "INFO:interface:stdout 2014-10-08T11:26:08.753378:iteration 94\n"
       ]
      },
      {
       "output_type": "stream",
       "stream": "stderr",
       "text": [
        "INFO:interface:stdout 2014-10-08T11:26:08.889086:changed labels: 3542\n"
       ]
      },
      {
       "output_type": "stream",
       "stream": "stderr",
       "text": [
        "INFO:interface:stdout 2014-10-08T11:26:08.895618:iteration 95\n"
       ]
      },
      {
       "output_type": "stream",
       "stream": "stderr",
       "text": [
        "INFO:interface:stdout 2014-10-08T11:26:09.031062:changed labels: 3485\n"
       ]
      },
      {
       "output_type": "stream",
       "stream": "stderr",
       "text": [
        "INFO:interface:stdout 2014-10-08T11:26:09.037630:iteration 96\n"
       ]
      },
      {
       "output_type": "stream",
       "stream": "stderr",
       "text": [
        "INFO:interface:stdout 2014-10-08T11:26:09.173356:changed labels: 3508\n"
       ]
      },
      {
       "output_type": "stream",
       "stream": "stderr",
       "text": [
        "INFO:interface:stdout 2014-10-08T11:26:09.179913:iteration 97\n"
       ]
      },
      {
       "output_type": "stream",
       "stream": "stderr",
       "text": [
        "INFO:interface:stdout 2014-10-08T11:26:09.316014:changed labels: 3447\n"
       ]
      },
      {
       "output_type": "stream",
       "stream": "stderr",
       "text": [
        "INFO:interface:stdout 2014-10-08T11:26:09.322551:iteration 98\n"
       ]
      },
      {
       "output_type": "stream",
       "stream": "stderr",
       "text": [
        "INFO:interface:stdout 2014-10-08T11:26:09.458129:changed labels: 3468\n"
       ]
      },
      {
       "output_type": "stream",
       "stream": "stderr",
       "text": [
        "INFO:interface:stdout 2014-10-08T11:26:09.464736:iteration 99\n"
       ]
      },
      {
       "output_type": "stream",
       "stream": "stderr",
       "text": [
        "INFO:interface:stdout 2014-10-08T11:26:09.600238:changed labels: 3497\n"
       ]
      },
      {
       "output_type": "stream",
       "stream": "stderr",
       "text": [
        "INFO:interface:stdout 2014-10-08T11:26:10.202669:edu.jhu.ece.iacl.jist.structures.image.ImageDataFloat\tImageDataFloat: 0New image:256x256x176x0\n"
       ]
      },
      {
       "output_type": "stream",
       "stream": "stderr",
       "text": [
        "INFO:interface:stdout 2014-10-08T11:26:10.554992:edu.jhu.ece.iacl.jist.structures.image.ImageDataFloat\tImageDataFloat: 1New image:256x256x176x0\n"
       ]
      },
      {
       "output_type": "stream",
       "stream": "stderr",
       "text": [
        "INFO:interface:stderr 2014-10-08T11:26:10.555595:edu.jhu.ece.iacl.jist.pipeline.CalculationMonitorCalculation Monitor not running. Punting stop.\n"
       ]
      },
      {
       "output_type": "stream",
       "stream": "stderr",
       "text": [
        "INFO:interface:stdout 2014-10-08T11:26:10.561625:---------- Performance Summary ----------\n"
       ]
      },
      {
       "output_type": "stream",
       "stream": "stderr",
       "text": [
        "INFO:interface:stdout 2014-10-08T11:26:10.561625:1) Algorithm Calculation -- ELAPSED TIME: Actual:  1 min 7.17 sec / CPU:  1 min 6.65 sec\n"
       ]
      },
      {
       "output_type": "stream",
       "stream": "stderr",
       "text": [
        "INFO:interface:stdout 2014-10-08T11:26:10.561625:\n"
       ]
      },
      {
       "output_type": "stream",
       "stream": "stderr",
       "text": [
        "INFO:interface:stdout 2014-10-08T11:26:10.561625:TOTAL ELAPSED TIME: Actual:  1 min 7.17 sec / CPU:  1 min 6.65 sec\n"
       ]
      },
      {
       "output_type": "stream",
       "stream": "stderr",
       "text": [
        "INFO:interface:stdout 2014-10-08T11:26:10.561625:CURRENT MEMORY: Used 1073 MB, Free 1359 MB, Total 2433 MB\n"
       ]
      },
      {
       "output_type": "stream",
       "stream": "stderr",
       "text": [
        "INFO:interface:stderr 2014-10-08T11:26:10.563303:edu.jhu.ece.iacl.jist.pipeline.view.input.RefresherRefresher stopping via interrupt.\n"
       ]
      },
      {
       "output_type": "stream",
       "stream": "stderr",
       "text": [
        "INFO:interface:stderr 2014-10-08T11:26:10.563303:edu.jhu.ece.iacl.jist.pipeline.view.input.RefresherRefresher finished.\n"
       ]
      },
      {
       "output_type": "stream",
       "stream": "stderr",
       "text": [
        "INFO:interface:stderr 2014-10-08T11:26:10.800118:java.io.IOException:  NIFTI header file error\n"
       ]
      },
      {
       "output_type": "stream",
       "stream": "stderr",
       "text": [
        "INFO:interface:stderr 2014-10-08T11:26:10.800789:\tat gov.nih.mipav.model.file.FileNIFTI.readImage(FileNIFTI.java:2615)\n"
       ]
      },
      {
       "output_type": "stream",
       "stream": "stderr",
       "text": [
        "INFO:interface:stderr 2014-10-08T11:26:10.800789:\tat gov.nih.mipav.model.file.FileIO.readNIFTI(FileIO.java:8632)\n"
       ]
      },
      {
       "output_type": "stream",
       "stream": "stderr",
       "text": [
        "INFO:interface:stderr 2014-10-08T11:26:10.800789:\tat gov.nih.mipav.model.file.FileIO.readImage(FileIO.java:2449)\n"
       ]
      },
      {
       "output_type": "stream",
       "stream": "stderr",
       "text": [
        "INFO:interface:stderr 2014-10-08T11:26:10.800789:\tat gov.nih.mipav.model.file.FileIO.readImage(FileIO.java:2013)\n"
       ]
      },
      {
       "output_type": "stream",
       "stream": "stderr",
       "text": [
        "INFO:interface:stderr 2014-10-08T11:26:10.800789:\tat edu.jhu.ece.iacl.jist.io.ModelImageReaderWriter.readQuiet(ModelImageReaderWriter.java:116)\n"
       ]
      },
      {
       "output_type": "stream",
       "stream": "stderr",
       "text": [
        "INFO:interface:stdout 2014-10-08T11:26:10.802496:jist.io\tFileReaderWriter: write file:outMasked.nii\n"
       ]
      },
      {
       "output_type": "stream",
       "stream": "stderr",
       "text": [
        "INFO:interface:stdout 2014-10-08T11:26:10.802496:cli\tUsage: edu.jhu.ece.iacl.jist.cli.run [classname] -help\n"
       ]
      },
      {
       "output_type": "stream",
       "stream": "stderr",
       "text": [
        "INFO:interface:stdout 2014-10-08T11:26:10.802496:cli\tUsage: edu.jhu.ece.iacl.jist.cli.run [classname] [run options]\n"
       ]
      },
      {
       "output_type": "stream",
       "stream": "stderr",
       "text": [
        "INFO:interface:stdout 2014-10-08T11:26:10.802496:cli\tPARSE Error: null\n"
       ]
      },
      {
       "output_type": "stream",
       "stream": "stderr",
       "text": [
        "INFO:interface:stderr 2014-10-08T11:26:10.804104:\tat edu.jhu.ece.iacl.jist.io.ModelImageReaderWriter.readObject(ModelImageReaderWriter.java:84)\n"
       ]
      },
      {
       "output_type": "stream",
       "stream": "stderr",
       "text": [
        "INFO:interface:stderr 2014-10-08T11:26:10.804104:\tat edu.jhu.ece.iacl.jist.io.ImageDataReaderWriter.readObject(ImageDataReaderWriter.java:90)\n"
       ]
      },
      {
       "output_type": "stream",
       "stream": "stderr",
       "text": [
        "INFO:interface:stderr 2014-10-08T11:26:10.804104:\tat edu.jhu.ece.iacl.jist.io.ImageDataReaderWriter.readObject(ImageDataReaderWriter.java:34)\n"
       ]
      },
      {
       "output_type": "stream",
       "stream": "stderr",
       "text": [
        "INFO:interface:stderr 2014-10-08T11:26:10.804104:\tat edu.jhu.ece.iacl.jist.io.FileReaderWriter.read(FileReaderWriter.java:69)\n"
       ]
      },
      {
       "output_type": "stream",
       "stream": "stderr",
       "text": [
        "INFO:interface:stderr 2014-10-08T11:26:10.804104:\tat edu.jhu.ece.iacl.jist.pipeline.parameter.ParamVolume.getImageData(ParamVolume.java:480)\n"
       ]
      },
      {
       "output_type": "stream",
       "stream": "stderr",
       "text": [
        "INFO:interface:stderr 2014-10-08T11:26:10.804104:\tat edu.jhu.ece.iacl.jist.pipeline.parameter.ParamVolume.getImageData(ParamVolume.java:469)\n"
       ]
      },
      {
       "output_type": "stream",
       "stream": "stderr",
       "text": [
        "INFO:interface:stderr 2014-10-08T11:26:10.804104:\tat edu.jhu.ece.iacl.jist.cli.run.main(run.java:122)\n"
       ]
      },
      {
       "output_type": "stream",
       "stream": "stderr",
       "text": [
        "INFO:interface:stderr 2014-10-08T11:26:10.804104:FAILED to Open Volume from Disk: /home/gdholla1/notebooks/outMasked.nii\n"
       ]
      },
      {
       "output_type": "stream",
       "stream": "stderr",
       "text": [
        "INFO:interface:stderr 2014-10-08T11:26:10.804104:java.lang.NullPointerException\n"
       ]
      },
      {
       "output_type": "stream",
       "stream": "stderr",
       "text": [
        "INFO:interface:stderr 2014-10-08T11:26:10.804104:\tat edu.jhu.ece.iacl.jist.structures.image.ImageDataMipav.createModelImage(ImageDataMipav.java:348)\n"
       ]
      },
      {
       "output_type": "stream",
       "stream": "stderr",
       "text": [
        "INFO:interface:stderr 2014-10-08T11:26:10.804104:\tat edu.jhu.ece.iacl.jist.io.ImageDataReaderWriter.writeObject(ImageDataReaderWriter.java:281)\n"
       ]
      },
      {
       "output_type": "stream",
       "stream": "stderr",
       "text": [
        "INFO:interface:stderr 2014-10-08T11:26:10.804104:\tat edu.jhu.ece.iacl.jist.io.ImageDataReaderWriter.writeObject(ImageDataReaderWriter.java:34)\n"
       ]
      },
      {
       "output_type": "stream",
       "stream": "stderr",
       "text": [
        "INFO:interface:stderr 2014-10-08T11:26:10.804104:\tat edu.jhu.ece.iacl.jist.io.FileReaderWriter.write(FileReaderWriter.java:102)\n"
       ]
      },
      {
       "output_type": "stream",
       "stream": "stderr",
       "text": [
        "INFO:interface:stderr 2014-10-08T11:26:10.804104:\tat edu.jhu.ece.iacl.jist.cli.run.main(run.java:122)\n"
       ]
      },
      {
       "ename": "RuntimeError",
       "evalue": "Command:\n/home/gdholla1/mipav/jre/bin/java -classpath /home/gdholla1/mipav/plugins/:/home/gdholla1/mipav/:/home/gdholla1/mipav/Uninstall-MIPAV/uninstaller.jar:/home/gdholla1/mipav/lib/jaxp/xalan.jar:/home/gdholla1/mipav/lib/jaxp/xercesImpl.jar:/home/gdholla1/mipav/lib/jaxp/dom.jar:/home/gdholla1/mipav/lib/jaxp/sax.jar:/home/gdholla1/mipav/lib/bcprov-jdk15-136.jar:/home/gdholla1/mipav/lib/mail.jar:/home/gdholla1/mipav/lib/policy.jar:/home/gdholla1/mipav/lib/jdom.jar:/home/gdholla1/mipav/lib/jj2kpack.jar:/home/gdholla1/mipav/lib/core_dictionary-4.1.1.8.jar:/home/gdholla1/mipav/lib/javax.persistence.jar:/home/gdholla1/mipav/lib/hyperapplet.jar:/home/gdholla1/mipav/lib/jaxb-api.jar:/home/gdholla1/mipav/lib/fitbir-model.jar:/home/gdholla1/mipav/lib/jhall.jar:/home/gdholla1/mipav/lib/stax-ex.jar:/home/gdholla1/mipav/lib/WildMagic.jar:/home/gdholla1/mipav/lib/camino.jar:/home/gdholla1/mipav/lib/jaxb-impl.jar:/home/gdholla1/mipav/lib/jTEM.jar:/home/gdholla1/mipav/lib/activation.jar:/home/gdholla1/mipav/lib/saaj-impl.jar:/home/gdholla1/mipav/lib/JimiProClasses.jar:/home/gdholla1/mipav/lib/tar.jar:/home/gdholla1/mipav/lib/fontbox-1.2.0.jar:/home/gdholla1/mipav/lib/log4j-1.2.16.jar:/home/gdholla1/mipav/lib/dataDictionaryClient-4.1.1.8.jar:/home/gdholla1/mipav/lib/streambuffer.jar:/home/gdholla1/mipav/lib/jaxws-rt.jar:/home/gdholla1/mipav/lib/ij.jar:/home/gdholla1/mipav/lib/jax-qname.jar:/home/gdholla1/mipav/lib/gmbal-api-only.jar:/home/gdholla1/mipav/lib/javac.jar:/home/gdholla1/mipav/lib/pdfbox-1.2.0.jar:/home/gdholla1/mipav/lib/jempbox-1.2.0.jar:/home/gdholla1/mipav/lib/fitbir-web-service.jar:/home/gdholla1/mipav/lib/ACCESSION_client_VTool.jar:/home/gdholla1/mipav/lib/junit-4.4.jar:/home/gdholla1/mipav/jre/lib/resources.jar:/home/gdholla1/mipav/jre/lib/charsets.jar:/home/gdholla1/mipav/jre/lib/alt-rt.jar:/home/gdholla1/mipav/jre/lib/deploy.jar:/home/gdholla1/mipav/jre/lib/rt.jar:/home/gdholla1/mipav/jre/lib/jsse.jar:/home/gdholla1/mipav/jre/lib/jce.jar:/home/gdholla1/mipav/jre/lib/management-agent.jar:/home/gdholla1/mipav/jre/lib/alt-string.jar:/home/gdholla1/mipav/jre/lib/javaws.jar:/home/gdholla1/mipav/jre/lib/ext/jogl.all-mobile.jar:/home/gdholla1/mipav/jre/lib/ext/joal-test.jar:/home/gdholla1/mipav/jre/lib/ext/newt.event.jar:/home/gdholla1/mipav/jre/lib/ext/j3dcore.jar:/home/gdholla1/mipav/jre/lib/ext/sunjce_provider.jar:/home/gdholla1/mipav/jre/lib/ext/jogl.all-noawt.jar:/home/gdholla1/mipav/jre/lib/ext/customizer.jar:/home/gdholla1/mipav/jre/lib/ext/multiplayer.jar:/home/gdholla1/mipav/jre/lib/ext/jhdfobj.jar:/home/gdholla1/mipav/jre/lib/ext/gluegen.jar:/home/gdholla1/mipav/jre/lib/ext/gluegen-rt.jar:/home/gdholla1/mipav/jre/lib/ext/jocl.jar:/home/gdholla1/mipav/jre/lib/ext/joal.jar:/home/gdholla1/mipav/jre/lib/ext/vecmath.jar:/home/gdholla1/mipav/jre/lib/ext/JOCL-0.1.7.jar:/home/gdholla1/mipav/jre/lib/ext/mediaplayer.jar:/home/gdholla1/mipav/jre/lib/ext/jhdf5obj.jar:/home/gdholla1/mipav/jre/lib/ext/jogl.all.jar:/home/gdholla1/mipav/jre/lib/ext/jogl.test.jar:/home/gdholla1/mipav/jre/lib/ext/sunpkcs11.jar:/home/gdholla1/mipav/jre/lib/ext/j3dutils.jar:/home/gdholla1/mipav/jre/lib/ext/jmf.jar:/home/gdholla1/mipav/jre/lib/ext/jhdf5.jar:/home/gdholla1/mipav/jre/lib/ext/dnsns.jar:/home/gdholla1/mipav/jre/lib/ext/localedata.jar:/home/gdholla1/mipav/jre/lib/im/thaiim.jar:/home/gdholla1/mipav/jre/lib/im/indicim.jar:/home/gdholla1/mipav/jre/lib/security/local_policy.jar:/home/gdholla1/mipav/jre/lib/security/US_export_policy.jar:/home/gdholla1/mipav/jre/lib/plugin.jar:/home/gdholla1/mipav/plugins/methods/methods.jar:/home/gdholla1/mipav/plugins/library/nativewindow.all.jar:/home/gdholla1/mipav/plugins/library/gluegen-rt.jar:/home/gdholla1/mipav/plugins/library/jogl.all.jar:/home/gdholla1/mipav/help/mipav_help.jar:/home/gdholla1/mipav/lax.jar:/home/gdholla1/mipav/InsightToolkit/lib/InsightToolkit/InsightToolkit.jar edu.jhu.ece.iacl.jist.cli.run de.mpg.cbs.jist.brain.JistBrainMp2rageSkullStripping  --inFilter /home/gdholla1/data/leipzig/mri/KP6T/session1_zoomed_in/S7_mp2rage_whole_brain_UNI_Images.nii --inInv2 /home/gdholla1/data/leipzig/mri/KP6T/session1_zoomed_in/S4_mp2rage_whole_brain_INV2.nii --inT1weighted /home/gdholla1/data/leipzig/mri/KP6T/session1_zoomed_in/S6_mp2rage_whole_brain_T1_Images.nii --outMasked /home/gdholla1/notebooks/outMasked.nii -xMaxProcess 1\nStandard output:\ncli\t####################################################################\ncli\tInitializing MIPAV/JIST Framework\nMIPAV STARTED with forceQuite set as true\ncli\t####################################################################\ncli\tInterpretting command line arguments\ncli\t####################################################################\nde.mpg.cbs.jist.brain.JistBrainMp2rageSkullStripping\n\toutExecution = <default> = \n\tinSkip = <default> = false\n\tinFilter = /home/gdholla1/data/leipzig/mri/KP6T/session1_zoomed_in/S7_mp2rage_whole_brain_UNI_Images.nii = /home/gdholla1/data/leipzig/mri/KP6T/session1_zoomed_in/S7_mp2rage_whole_brain_UNI_Images.nii\n\toutMasked2 = <default> = Masked T1-weighted Image\n\tinInv2 = /home/gdholla1/data/leipzig/mri/KP6T/session1_zoomed_in/S4_mp2rage_whole_brain_INV2.nii = /home/gdholla1/data/leipzig/mri/KP6T/session1_zoomed_in/S4_mp2rage_whole_brain_INV2.nii\n\tinT1weighted = /home/gdholla1/data/leipzig/mri/KP6T/session1_zoomed_in/S6_mp2rage_whole_brain_T1_Images.nii = /home/gdholla1/data/leipzig/mri/KP6T/session1_zoomed_in/S6_mp2rage_whole_brain_T1_Images.nii\n\toutBrain = <default> = Brain Mask Image\n\toutMasked3 = <default> = Masked Filter Image\n\tinT1 = <default> = T1 Map Image\n\toutMasked = /home/gdholla1/notebooks/outMasked.nii = /home/gdholla1/notebooks/outMasked.nii\n\toutProc = /home/gdholla1/notebooks\n\toutResult = output.txt\ncli\t####################################################################\nedu.jhu.ece.iacl.jist.structures.image.ImageDataFloat\tImageDataFloat: 0New image:256x256x176x1\nedu.jhu.ece.iacl.jist.structures.image.ImageDataFloat\tImageDataFloat: 1New image:256x256x176x1\nedu.jhu.ece.iacl.jist.structures.image.ImageDataFloat\tImageDataFloat: 2New image:256x256x176x1\nimage range: 0.0, 1499.0\nmean parameters: 0.05102058095562509\niteration 1\nmean parameters: 0.02495016508806164\ndiff parameters: 0.026070415867563448\niteration 2\nmean parameters: 0.013559674465951167\ndiff parameters: 0.011390490622110474\niteration 3\nmean parameters: 0.009698280057654995\ndiff parameters: 0.003861394408296172\niteration 4\nmean parameters: 0.008623307046790124\ndiff parameters: 0.0010749730108648714\niteration 5\nmean parameters: 0.008308390993678324\ndiff parameters: 3.1491605311179983E-4\niteration 6\nmean parameters: 0.008212212609716494\ndiff parameters: 9.617838396182993E-5\nbackground-based skull strippingimage: [4.9592734E-5, 0.9918051]\nscaled dimensions: 16 x 16 x 11\nmin obj size: 2816\nmax obj size: 278\nrng obj size: 1886\nand obj size: 278\nmain obj size: 280\nboundary size: 228\nscaled dimensions: 32 x 32 x 22\nscaled dimensions: 64 x 64 x 44\nedu.jhu.ece.iacl.jist.structures.image.ImageDataFloat\tImageDataFloat: 2Free image:S7_mp2rage_whole_brain_UNI_Images\nedu.jhu.ece.iacl.jist.structures.image.ImageDataFloat\tImageDataFloat: 1Free image:S6_mp2rage_whole_brain_T1_Images\nedu.jhu.ece.iacl.jist.structures.image.ImageDataFloat\tImageDataFloat: 0Free image:S4_mp2rage_whole_brain_INV2\nscaled dimensions: 128 x 128 x 88\nregion size: 2049984\nLUT loaded from: file:/home/gdholla1/mipav/plugins/de/mpg/cbs/structures/critical66LUT.raw.gz\ninitialization\nfast marching init\ninit\ndone\nGDM forces: 0.0 (field), 0.1 (balloon), 0.9 (smoothing)\nLUT loaded from: file:/home/gdholla1/mipav/plugins/de/mpg/cbs/structures/critical66LUT.raw.gz\ninitial GDM decomposition\nfast marching\ninit\ndone\ninitialization\nlevel set evolution: narrow band\ninit (1353272)\niteration 0\nchanged labels: 3234\niteration 1\nchanged labels: 9607\niteration 2\nchanged labels: 4562\niteration 3\nchanged labels: 4510\niteration 4\nchanged labels: 4428\niteration 5\nchanged labels: 4019\niteration 6\nchanged labels: 4216\niteration 7\nchanged labels: 4088\niteration 8\nchanged labels: 4044\niteration 9\nchanged labels: 4412\niteration 10\nchanged labels: 4390\niteration 11\nchanged labels: 4545\niteration 12\nchanged labels: 5858\niteration 13\nchanged labels: 5455\niteration 14\nchanged labels: 4392\niteration 15\nchanged labels: 4154\niteration 16\nchanged labels: 3861\niteration 17\nchanged labels: 3517\niteration 18\nchanged labels: 3299\niteration 19\nchanged labels: 3231\niteration 20\nchanged labels: 3073\niteration 21\nchanged labels: 3147\niteration 22\nchanged labels: 2968\niteration 23\nchanged labels: 2981\niteration 24\nchanged labels: 3144\niteration 25\nchanged labels: 3022\niteration 26\nchanged labels: 3115\niteration 27\nchanged labels: 2965\niteration 28\nchanged labels: 2986\niteration 29\nchanged labels: 2991\niteration 30\nchanged labels: 2999\niteration 31\nchanged labels: 3187\niteration 32\nchanged labels: 2998\niteration 33\nchanged labels: 3157\niteration 34\nchanged labels: 3112\niteration 35\nchanged labels: 3187\niteration 36\nchanged labels: 3176\niteration 37\nchanged labels: 3071\niteration 38\nchanged labels: 3225\niteration 39\nchanged labels: 3355\niteration 40\nchanged labels: 3281\niteration 41\nchanged labels: 3256\niteration 42\nchanged labels: 3400\niteration 43\nchanged labels: 3148\niteration 44\nchanged labels: 3305\niteration 45\nchanged labels: 3253\niteration 46\nchanged labels: 3149\niteration 47\nchanged labels: 3195\niteration 48\nchanged labels: 3198\niteration 49\nchanged labels: 3116\niteration 50\nchanged labels: 3155\niteration 51\nchanged labels: 3109\niteration 52\nchanged labels: 3148\niteration 53\nchanged labels: 3123\niteration 54\nchanged labels: 3120\niteration 55\nchanged labels: 3091\niteration 56\nchanged labels: 3051\niteration 57\nchanged labels: 3168\niteration 58\nchanged labels: 3182\niteration 59\nchanged labels: 3228\niteration 60\nchanged labels: 3258\niteration 61\nchanged labels: 3284\niteration 62\nchanged labels: 3222\niteration 63\nchanged labels: 3125\niteration 64\nchanged labels: 3199\niteration 65\nchanged labels: 3183\niteration 66\nchanged labels: 3151\niteration 67\nchanged labels: 3162\niteration 68\nchanged labels: 3280\niteration 69\nchanged labels: 3210\niteration 70\nchanged labels: 3249\niteration 71\nchanged labels: 3224\niteration 72\nchanged labels: 3280\niteration 73\nchanged labels: 3284\niteration 74\nchanged labels: 3360\niteration 75\nchanged labels: 3194\niteration 76\nchanged labels: 3254\niteration 77\nchanged labels: 3362\niteration 78\nchanged labels: 3461\niteration 79\nchanged labels: 3372\niteration 80\nchanged labels: 3317\niteration 81\nchanged labels: 3318\niteration 82\nchanged labels: 3350\niteration 83\nchanged labels: 3377\niteration 84\nchanged labels: 3318\niteration 85\nchanged labels: 3433\nre-initialization\nlevel set evolution: iso-surface reinit\nfast marching\ninit\ndone\niteration 86\nchanged labels: 3738\niteration 87\nchanged labels: 3133\niteration 88\nchanged labels: 3383\niteration 89\nchanged labels: 3400\niteration 90\nchanged labels: 3305\niteration 91\nchanged labels: 3291\niteration 92\nchanged labels: 3435\niteration 93\nchanged labels: 3347\niteration 94\nchanged labels: 3542\niteration 95\nchanged labels: 3485\niteration 96\nchanged labels: 3508\niteration 97\nchanged labels: 3447\niteration 98\nchanged labels: 3468\niteration 99\nchanged labels: 3497\nedu.jhu.ece.iacl.jist.structures.image.ImageDataFloat\tImageDataFloat: 0New image:256x256x176x0\nedu.jhu.ece.iacl.jist.structures.image.ImageDataFloat\tImageDataFloat: 1New image:256x256x176x0\n---------- Performance Summary ----------\n1) Algorithm Calculation -- ELAPSED TIME: Actual:  1 min 7.17 sec / CPU:  1 min 6.65 sec\n\nTOTAL ELAPSED TIME: Actual:  1 min 7.17 sec / CPU:  1 min 6.65 sec\nCURRENT MEMORY: Used 1073 MB, Free 1359 MB, Total 2433 MB\njist.io\tFileReaderWriter: write file:outMasked.nii\ncli\tUsage: edu.jhu.ece.iacl.jist.cli.run [classname] -help\ncli\tUsage: edu.jhu.ece.iacl.jist.cli.run [classname] [run options]\ncli\tPARSE Error: null\nStandard error:\nCould not find library, using working directory /home/gdholla1/jist-lib\nedu.jhu.ece.iacl.jist.pipeline.CalculationMonitorCalculation Monitor not running. Punting stop.\nedu.jhu.ece.iacl.jist.pipeline.view.input.RefresherRefresher stopping via interrupt.\nedu.jhu.ece.iacl.jist.pipeline.view.input.RefresherRefresher finished.\njava.io.IOException:  NIFTI header file error\n\tat gov.nih.mipav.model.file.FileNIFTI.readImage(FileNIFTI.java:2615)\n\tat gov.nih.mipav.model.file.FileIO.readNIFTI(FileIO.java:8632)\n\tat gov.nih.mipav.model.file.FileIO.readImage(FileIO.java:2449)\n\tat gov.nih.mipav.model.file.FileIO.readImage(FileIO.java:2013)\n\tat edu.jhu.ece.iacl.jist.io.ModelImageReaderWriter.readQuiet(ModelImageReaderWriter.java:116)\n\tat edu.jhu.ece.iacl.jist.io.ModelImageReaderWriter.readObject(ModelImageReaderWriter.java:84)\n\tat edu.jhu.ece.iacl.jist.io.ImageDataReaderWriter.readObject(ImageDataReaderWriter.java:90)\n\tat edu.jhu.ece.iacl.jist.io.ImageDataReaderWriter.readObject(ImageDataReaderWriter.java:34)\n\tat edu.jhu.ece.iacl.jist.io.FileReaderWriter.read(FileReaderWriter.java:69)\n\tat edu.jhu.ece.iacl.jist.pipeline.parameter.ParamVolume.getImageData(ParamVolume.java:480)\n\tat edu.jhu.ece.iacl.jist.pipeline.parameter.ParamVolume.getImageData(ParamVolume.java:469)\n\tat edu.jhu.ece.iacl.jist.cli.run.main(run.java:122)\nFAILED to Open Volume from Disk: /home/gdholla1/notebooks/outMasked.nii\njava.lang.NullPointerException\n\tat edu.jhu.ece.iacl.jist.structures.image.ImageDataMipav.createModelImage(ImageDataMipav.java:348)\n\tat edu.jhu.ece.iacl.jist.io.ImageDataReaderWriter.writeObject(ImageDataReaderWriter.java:281)\n\tat edu.jhu.ece.iacl.jist.io.ImageDataReaderWriter.writeObject(ImageDataReaderWriter.java:34)\n\tat edu.jhu.ece.iacl.jist.io.FileReaderWriter.write(FileReaderWriter.java:102)\n\tat edu.jhu.ece.iacl.jist.cli.run.main(run.java:122)\nReturn code: 255\nInterface JistBrainMp2rageSkullStripping failed to run. ",
       "output_type": "pyerr",
       "traceback": [
        "\u001b[1;31m---------------------------------------------------------------------------\u001b[0m\n\u001b[1;31mRuntimeError\u001b[0m                              Traceback (most recent call last)",
        "\u001b[1;32m<ipython-input-13-d2d5ab315aef>\u001b[0m in \u001b[0;36m<module>\u001b[1;34m()\u001b[0m\n\u001b[1;32m----> 1\u001b[1;33m \u001b[0mr\u001b[0m \u001b[1;33m=\u001b[0m \u001b[0mskullstrip\u001b[0m\u001b[1;33m.\u001b[0m\u001b[0mrun\u001b[0m\u001b[1;33m(\u001b[0m\u001b[1;33m)\u001b[0m\u001b[1;33m\u001b[0m\u001b[0m\n\u001b[0m",
        "\u001b[1;32m/usr/local/lib/python2.7/dist-packages/nipype/interfaces/base.pyc\u001b[0m in \u001b[0;36mrun\u001b[1;34m(self, **inputs)\u001b[0m\n\u001b[0;32m    996\u001b[0m                     \u001b[0mruntime\u001b[0m\u001b[1;33m.\u001b[0m\u001b[0menviron\u001b[0m\u001b[1;33m[\u001b[0m\u001b[1;34m'DISPLAY'\u001b[0m\u001b[1;33m]\u001b[0m \u001b[1;33m=\u001b[0m \u001b[1;34m':%s'\u001b[0m \u001b[1;33m%\u001b[0m \u001b[0mvdisplay_num\u001b[0m\u001b[1;33m\u001b[0m\u001b[0m\n\u001b[0;32m    997\u001b[0m \u001b[1;33m\u001b[0m\u001b[0m\n\u001b[1;32m--> 998\u001b[1;33m             \u001b[0mruntime\u001b[0m \u001b[1;33m=\u001b[0m \u001b[0mself\u001b[0m\u001b[1;33m.\u001b[0m\u001b[0m_run_interface\u001b[0m\u001b[1;33m(\u001b[0m\u001b[0mruntime\u001b[0m\u001b[1;33m)\u001b[0m\u001b[1;33m\u001b[0m\u001b[0m\n\u001b[0m\u001b[0;32m    999\u001b[0m \u001b[1;33m\u001b[0m\u001b[0m\n\u001b[0;32m   1000\u001b[0m             \u001b[1;32mif\u001b[0m \u001b[0mself\u001b[0m\u001b[1;33m.\u001b[0m\u001b[0m_redirect_x\u001b[0m\u001b[1;33m:\u001b[0m\u001b[1;33m\u001b[0m\u001b[0m\n",
        "\u001b[1;32m/usr/local/lib/python2.7/dist-packages/nipype/interfaces/base.pyc\u001b[0m in \u001b[0;36m_run_interface\u001b[1;34m(self, runtime, correct_return_codes)\u001b[0m\n\u001b[0;32m   1445\u001b[0m         \u001b[1;32mif\u001b[0m \u001b[0mruntime\u001b[0m\u001b[1;33m.\u001b[0m\u001b[0mreturncode\u001b[0m \u001b[1;32mis\u001b[0m \u001b[0mNone\u001b[0m \u001b[1;32mor\u001b[0m\u001b[0;31m \u001b[0m\u001b[0;31m\\\u001b[0m\u001b[1;33m\u001b[0m\u001b[0m\n\u001b[0;32m   1446\u001b[0m                         \u001b[0mruntime\u001b[0m\u001b[1;33m.\u001b[0m\u001b[0mreturncode\u001b[0m \u001b[1;32mnot\u001b[0m \u001b[1;32min\u001b[0m \u001b[0mcorrect_return_codes\u001b[0m\u001b[1;33m:\u001b[0m\u001b[1;33m\u001b[0m\u001b[0m\n\u001b[1;32m-> 1447\u001b[1;33m             \u001b[0mself\u001b[0m\u001b[1;33m.\u001b[0m\u001b[0mraise_exception\u001b[0m\u001b[1;33m(\u001b[0m\u001b[0mruntime\u001b[0m\u001b[1;33m)\u001b[0m\u001b[1;33m\u001b[0m\u001b[0m\n\u001b[0m\u001b[0;32m   1448\u001b[0m \u001b[1;33m\u001b[0m\u001b[0m\n\u001b[0;32m   1449\u001b[0m         \u001b[1;32mreturn\u001b[0m \u001b[0mruntime\u001b[0m\u001b[1;33m\u001b[0m\u001b[0m\n",
        "\u001b[1;32m/usr/local/lib/python2.7/dist-packages/nipype/interfaces/base.pyc\u001b[0m in \u001b[0;36mraise_exception\u001b[1;34m(self, runtime)\u001b[0m\n\u001b[0;32m   1374\u001b[0m         \u001b[0mmessage\u001b[0m \u001b[1;33m+=\u001b[0m \u001b[1;34m\"Standard error:\\n\"\u001b[0m \u001b[1;33m+\u001b[0m \u001b[0mruntime\u001b[0m\u001b[1;33m.\u001b[0m\u001b[0mstderr\u001b[0m \u001b[1;33m+\u001b[0m \u001b[1;34m\"\\n\"\u001b[0m\u001b[1;33m\u001b[0m\u001b[0m\n\u001b[0;32m   1375\u001b[0m         \u001b[0mmessage\u001b[0m \u001b[1;33m+=\u001b[0m \u001b[1;34m\"Return code: \"\u001b[0m \u001b[1;33m+\u001b[0m \u001b[0mstr\u001b[0m\u001b[1;33m(\u001b[0m\u001b[0mruntime\u001b[0m\u001b[1;33m.\u001b[0m\u001b[0mreturncode\u001b[0m\u001b[1;33m)\u001b[0m\u001b[1;33m\u001b[0m\u001b[0m\n\u001b[1;32m-> 1376\u001b[1;33m         \u001b[1;32mraise\u001b[0m \u001b[0mRuntimeError\u001b[0m\u001b[1;33m(\u001b[0m\u001b[0mmessage\u001b[0m\u001b[1;33m)\u001b[0m\u001b[1;33m\u001b[0m\u001b[0m\n\u001b[0m\u001b[0;32m   1377\u001b[0m \u001b[1;33m\u001b[0m\u001b[0m\n\u001b[0;32m   1378\u001b[0m     \u001b[1;33m@\u001b[0m\u001b[0mclassmethod\u001b[0m\u001b[1;33m\u001b[0m\u001b[0m\n",
        "\u001b[1;31mRuntimeError\u001b[0m: Command:\n/home/gdholla1/mipav/jre/bin/java -classpath /home/gdholla1/mipav/plugins/:/home/gdholla1/mipav/:/home/gdholla1/mipav/Uninstall-MIPAV/uninstaller.jar:/home/gdholla1/mipav/lib/jaxp/xalan.jar:/home/gdholla1/mipav/lib/jaxp/xercesImpl.jar:/home/gdholla1/mipav/lib/jaxp/dom.jar:/home/gdholla1/mipav/lib/jaxp/sax.jar:/home/gdholla1/mipav/lib/bcprov-jdk15-136.jar:/home/gdholla1/mipav/lib/mail.jar:/home/gdholla1/mipav/lib/policy.jar:/home/gdholla1/mipav/lib/jdom.jar:/home/gdholla1/mipav/lib/jj2kpack.jar:/home/gdholla1/mipav/lib/core_dictionary-4.1.1.8.jar:/home/gdholla1/mipav/lib/javax.persistence.jar:/home/gdholla1/mipav/lib/hyperapplet.jar:/home/gdholla1/mipav/lib/jaxb-api.jar:/home/gdholla1/mipav/lib/fitbir-model.jar:/home/gdholla1/mipav/lib/jhall.jar:/home/gdholla1/mipav/lib/stax-ex.jar:/home/gdholla1/mipav/lib/WildMagic.jar:/home/gdholla1/mipav/lib/camino.jar:/home/gdholla1/mipav/lib/jaxb-impl.jar:/home/gdholla1/mipav/lib/jTEM.jar:/home/gdholla1/mipav/lib/activation.jar:/home/gdholla1/mipav/lib/saaj-impl.jar:/home/gdholla1/mipav/lib/JimiProClasses.jar:/home/gdholla1/mipav/lib/tar.jar:/home/gdholla1/mipav/lib/fontbox-1.2.0.jar:/home/gdholla1/mipav/lib/log4j-1.2.16.jar:/home/gdholla1/mipav/lib/dataDictionaryClient-4.1.1.8.jar:/home/gdholla1/mipav/lib/streambuffer.jar:/home/gdholla1/mipav/lib/jaxws-rt.jar:/home/gdholla1/mipav/lib/ij.jar:/home/gdholla1/mipav/lib/jax-qname.jar:/home/gdholla1/mipav/lib/gmbal-api-only.jar:/home/gdholla1/mipav/lib/javac.jar:/home/gdholla1/mipav/lib/pdfbox-1.2.0.jar:/home/gdholla1/mipav/lib/jempbox-1.2.0.jar:/home/gdholla1/mipav/lib/fitbir-web-service.jar:/home/gdholla1/mipav/lib/ACCESSION_client_VTool.jar:/home/gdholla1/mipav/lib/junit-4.4.jar:/home/gdholla1/mipav/jre/lib/resources.jar:/home/gdholla1/mipav/jre/lib/charsets.jar:/home/gdholla1/mipav/jre/lib/alt-rt.jar:/home/gdholla1/mipav/jre/lib/deploy.jar:/home/gdholla1/mipav/jre/lib/rt.jar:/home/gdholla1/mipav/jre/lib/jsse.jar:/home/gdholla1/mipav/jre/lib/jce.jar:/home/gdholla1/mipav/jre/lib/management-agent.jar:/home/gdholla1/mipav/jre/lib/alt-string.jar:/home/gdholla1/mipav/jre/lib/javaws.jar:/home/gdholla1/mipav/jre/lib/ext/jogl.all-mobile.jar:/home/gdholla1/mipav/jre/lib/ext/joal-test.jar:/home/gdholla1/mipav/jre/lib/ext/newt.event.jar:/home/gdholla1/mipav/jre/lib/ext/j3dcore.jar:/home/gdholla1/mipav/jre/lib/ext/sunjce_provider.jar:/home/gdholla1/mipav/jre/lib/ext/jogl.all-noawt.jar:/home/gdholla1/mipav/jre/lib/ext/customizer.jar:/home/gdholla1/mipav/jre/lib/ext/multiplayer.jar:/home/gdholla1/mipav/jre/lib/ext/jhdfobj.jar:/home/gdholla1/mipav/jre/lib/ext/gluegen.jar:/home/gdholla1/mipav/jre/lib/ext/gluegen-rt.jar:/home/gdholla1/mipav/jre/lib/ext/jocl.jar:/home/gdholla1/mipav/jre/lib/ext/joal.jar:/home/gdholla1/mipav/jre/lib/ext/vecmath.jar:/home/gdholla1/mipav/jre/lib/ext/JOCL-0.1.7.jar:/home/gdholla1/mipav/jre/lib/ext/mediaplayer.jar:/home/gdholla1/mipav/jre/lib/ext/jhdf5obj.jar:/home/gdholla1/mipav/jre/lib/ext/jogl.all.jar:/home/gdholla1/mipav/jre/lib/ext/jogl.test.jar:/home/gdholla1/mipav/jre/lib/ext/sunpkcs11.jar:/home/gdholla1/mipav/jre/lib/ext/j3dutils.jar:/home/gdholla1/mipav/jre/lib/ext/jmf.jar:/home/gdholla1/mipav/jre/lib/ext/jhdf5.jar:/home/gdholla1/mipav/jre/lib/ext/dnsns.jar:/home/gdholla1/mipav/jre/lib/ext/localedata.jar:/home/gdholla1/mipav/jre/lib/im/thaiim.jar:/home/gdholla1/mipav/jre/lib/im/indicim.jar:/home/gdholla1/mipav/jre/lib/security/local_policy.jar:/home/gdholla1/mipav/jre/lib/security/US_export_policy.jar:/home/gdholla1/mipav/jre/lib/plugin.jar:/home/gdholla1/mipav/plugins/methods/methods.jar:/home/gdholla1/mipav/plugins/library/nativewindow.all.jar:/home/gdholla1/mipav/plugins/library/gluegen-rt.jar:/home/gdholla1/mipav/plugins/library/jogl.all.jar:/home/gdholla1/mipav/help/mipav_help.jar:/home/gdholla1/mipav/lax.jar:/home/gdholla1/mipav/InsightToolkit/lib/InsightToolkit/InsightToolkit.jar edu.jhu.ece.iacl.jist.cli.run de.mpg.cbs.jist.brain.JistBrainMp2rageSkullStripping  --inFilter /home/gdholla1/data/leipzig/mri/KP6T/session1_zoomed_in/S7_mp2rage_whole_brain_UNI_Images.nii --inInv2 /home/gdholla1/data/leipzig/mri/KP6T/session1_zoomed_in/S4_mp2rage_whole_brain_INV2.nii --inT1weighted /home/gdholla1/data/leipzig/mri/KP6T/session1_zoomed_in/S6_mp2rage_whole_brain_T1_Images.nii --outMasked /home/gdholla1/notebooks/outMasked.nii -xMaxProcess 1\nStandard output:\ncli\t####################################################################\ncli\tInitializing MIPAV/JIST Framework\nMIPAV STARTED with forceQuite set as true\ncli\t####################################################################\ncli\tInterpretting command line arguments\ncli\t####################################################################\nde.mpg.cbs.jist.brain.JistBrainMp2rageSkullStripping\n\toutExecution = <default> = \n\tinSkip = <default> = false\n\tinFilter = /home/gdholla1/data/leipzig/mri/KP6T/session1_zoomed_in/S7_mp2rage_whole_brain_UNI_Images.nii = /home/gdholla1/data/leipzig/mri/KP6T/session1_zoomed_in/S7_mp2rage_whole_brain_UNI_Images.nii\n\toutMasked2 = <default> = Masked T1-weighted Image\n\tinInv2 = /home/gdholla1/data/leipzig/mri/KP6T/session1_zoomed_in/S4_mp2rage_whole_brain_INV2.nii = /home/gdholla1/data/leipzig/mri/KP6T/session1_zoomed_in/S4_mp2rage_whole_brain_INV2.nii\n\tinT1weighted = /home/gdholla1/data/leipzig/mri/KP6T/session1_zoomed_in/S6_mp2rage_whole_brain_T1_Images.nii = /home/gdholla1/data/leipzig/mri/KP6T/session1_zoomed_in/S6_mp2rage_whole_brain_T1_Images.nii\n\toutBrain = <default> = Brain Mask Image\n\toutMasked3 = <default> = Masked Filter Image\n\tinT1 = <default> = T1 Map Image\n\toutMasked = /home/gdholla1/notebooks/outMasked.nii = /home/gdholla1/notebooks/outMasked.nii\n\toutProc = /home/gdholla1/notebooks\n\toutResult = output.txt\ncli\t####################################################################\nedu.jhu.ece.iacl.jist.structures.image.ImageDataFloat\tImageDataFloat: 0New image:256x256x176x1\nedu.jhu.ece.iacl.jist.structures.image.ImageDataFloat\tImageDataFloat: 1New image:256x256x176x1\nedu.jhu.ece.iacl.jist.structures.image.ImageDataFloat\tImageDataFloat: 2New image:256x256x176x1\nimage range: 0.0, 1499.0\nmean parameters: 0.05102058095562509\niteration 1\nmean parameters: 0.02495016508806164\ndiff parameters: 0.026070415867563448\niteration 2\nmean parameters: 0.013559674465951167\ndiff parameters: 0.011390490622110474\niteration 3\nmean parameters: 0.009698280057654995\ndiff parameters: 0.003861394408296172\niteration 4\nmean parameters: 0.008623307046790124\ndiff parameters: 0.0010749730108648714\niteration 5\nmean parameters: 0.008308390993678324\ndiff parameters: 3.1491605311179983E-4\niteration 6\nmean parameters: 0.008212212609716494\ndiff parameters: 9.617838396182993E-5\nbackground-based skull strippingimage: [4.9592734E-5, 0.9918051]\nscaled dimensions: 16 x 16 x 11\nmin obj size: 2816\nmax obj size: 278\nrng obj size: 1886\nand obj size: 278\nmain obj size: 280\nboundary size: 228\nscaled dimensions: 32 x 32 x 22\nscaled dimensions: 64 x 64 x 44\nedu.jhu.ece.iacl.jist.structures.image.ImageDataFloat\tImageDataFloat: 2Free image:S7_mp2rage_whole_brain_UNI_Images\nedu.jhu.ece.iacl.jist.structures.image.ImageDataFloat\tImageDataFloat: 1Free image:S6_mp2rage_whole_brain_T1_Images\nedu.jhu.ece.iacl.jist.structures.image.ImageDataFloat\tImageDataFloat: 0Free image:S4_mp2rage_whole_brain_INV2\nscaled dimensions: 128 x 128 x 88\nregion size: 2049984\nLUT loaded from: file:/home/gdholla1/mipav/plugins/de/mpg/cbs/structures/critical66LUT.raw.gz\ninitialization\nfast marching init\ninit\ndone\nGDM forces: 0.0 (field), 0.1 (balloon), 0.9 (smoothing)\nLUT loaded from: file:/home/gdholla1/mipav/plugins/de/mpg/cbs/structures/critical66LUT.raw.gz\ninitial GDM decomposition\nfast marching\ninit\ndone\ninitialization\nlevel set evolution: narrow band\ninit (1353272)\niteration 0\nchanged labels: 3234\niteration 1\nchanged labels: 9607\niteration 2\nchanged labels: 4562\niteration 3\nchanged labels: 4510\niteration 4\nchanged labels: 4428\niteration 5\nchanged labels: 4019\niteration 6\nchanged labels: 4216\niteration 7\nchanged labels: 4088\niteration 8\nchanged labels: 4044\niteration 9\nchanged labels: 4412\niteration 10\nchanged labels: 4390\niteration 11\nchanged labels: 4545\niteration 12\nchanged labels: 5858\niteration 13\nchanged labels: 5455\niteration 14\nchanged labels: 4392\niteration 15\nchanged labels: 4154\niteration 16\nchanged labels: 3861\niteration 17\nchanged labels: 3517\niteration 18\nchanged labels: 3299\niteration 19\nchanged labels: 3231\niteration 20\nchanged labels: 3073\niteration 21\nchanged labels: 3147\niteration 22\nchanged labels: 2968\niteration 23\nchanged labels: 2981\niteration 24\nchanged labels: 3144\niteration 25\nchanged labels: 3022\niteration 26\nchanged labels: 3115\niteration 27\nchanged labels: 2965\niteration 28\nchanged labels: 2986\niteration 29\nchanged labels: 2991\niteration 30\nchanged labels: 2999\niteration 31\nchanged labels: 3187\niteration 32\nchanged labels: 2998\niteration 33\nchanged labels: 3157\niteration 34\nchanged labels: 3112\niteration 35\nchanged labels: 3187\niteration 36\nchanged labels: 3176\niteration 37\nchanged labels: 3071\niteration 38\nchanged labels: 3225\niteration 39\nchanged labels: 3355\niteration 40\nchanged labels: 3281\niteration 41\nchanged labels: 3256\niteration 42\nchanged labels: 3400\niteration 43\nchanged labels: 3148\niteration 44\nchanged labels: 3305\niteration 45\nchanged labels: 3253\niteration 46\nchanged labels: 3149\niteration 47\nchanged labels: 3195\niteration 48\nchanged labels: 3198\niteration 49\nchanged labels: 3116\niteration 50\nchanged labels: 3155\niteration 51\nchanged labels: 3109\niteration 52\nchanged labels: 3148\niteration 53\nchanged labels: 3123\niteration 54\nchanged labels: 3120\niteration 55\nchanged labels: 3091\niteration 56\nchanged labels: 3051\niteration 57\nchanged labels: 3168\niteration 58\nchanged labels: 3182\niteration 59\nchanged labels: 3228\niteration 60\nchanged labels: 3258\niteration 61\nchanged labels: 3284\niteration 62\nchanged labels: 3222\niteration 63\nchanged labels: 3125\niteration 64\nchanged labels: 3199\niteration 65\nchanged labels: 3183\niteration 66\nchanged labels: 3151\niteration 67\nchanged labels: 3162\niteration 68\nchanged labels: 3280\niteration 69\nchanged labels: 3210\niteration 70\nchanged labels: 3249\niteration 71\nchanged labels: 3224\niteration 72\nchanged labels: 3280\niteration 73\nchanged labels: 3284\niteration 74\nchanged labels: 3360\niteration 75\nchanged labels: 3194\niteration 76\nchanged labels: 3254\niteration 77\nchanged labels: 3362\niteration 78\nchanged labels: 3461\niteration 79\nchanged labels: 3372\niteration 80\nchanged labels: 3317\niteration 81\nchanged labels: 3318\niteration 82\nchanged labels: 3350\niteration 83\nchanged labels: 3377\niteration 84\nchanged labels: 3318\niteration 85\nchanged labels: 3433\nre-initialization\nlevel set evolution: iso-surface reinit\nfast marching\ninit\ndone\niteration 86\nchanged labels: 3738\niteration 87\nchanged labels: 3133\niteration 88\nchanged labels: 3383\niteration 89\nchanged labels: 3400\niteration 90\nchanged labels: 3305\niteration 91\nchanged labels: 3291\niteration 92\nchanged labels: 3435\niteration 93\nchanged labels: 3347\niteration 94\nchanged labels: 3542\niteration 95\nchanged labels: 3485\niteration 96\nchanged labels: 3508\niteration 97\nchanged labels: 3447\niteration 98\nchanged labels: 3468\niteration 99\nchanged labels: 3497\nedu.jhu.ece.iacl.jist.structures.image.ImageDataFloat\tImageDataFloat: 0New image:256x256x176x0\nedu.jhu.ece.iacl.jist.structures.image.ImageDataFloat\tImageDataFloat: 1New image:256x256x176x0\n---------- Performance Summary ----------\n1) Algorithm Calculation -- ELAPSED TIME: Actual:  1 min 7.17 sec / CPU:  1 min 6.65 sec\n\nTOTAL ELAPSED TIME: Actual:  1 min 7.17 sec / CPU:  1 min 6.65 sec\nCURRENT MEMORY: Used 1073 MB, Free 1359 MB, Total 2433 MB\njist.io\tFileReaderWriter: write file:outMasked.nii\ncli\tUsage: edu.jhu.ece.iacl.jist.cli.run [classname] -help\ncli\tUsage: edu.jhu.ece.iacl.jist.cli.run [classname] [run options]\ncli\tPARSE Error: null\nStandard error:\nCould not find library, using working directory /home/gdholla1/jist-lib\nedu.jhu.ece.iacl.jist.pipeline.CalculationMonitorCalculation Monitor not running. Punting stop.\nedu.jhu.ece.iacl.jist.pipeline.view.input.RefresherRefresher stopping via interrupt.\nedu.jhu.ece.iacl.jist.pipeline.view.input.RefresherRefresher finished.\njava.io.IOException:  NIFTI header file error\n\tat gov.nih.mipav.model.file.FileNIFTI.readImage(FileNIFTI.java:2615)\n\tat gov.nih.mipav.model.file.FileIO.readNIFTI(FileIO.java:8632)\n\tat gov.nih.mipav.model.file.FileIO.readImage(FileIO.java:2449)\n\tat gov.nih.mipav.model.file.FileIO.readImage(FileIO.java:2013)\n\tat edu.jhu.ece.iacl.jist.io.ModelImageReaderWriter.readQuiet(ModelImageReaderWriter.java:116)\n\tat edu.jhu.ece.iacl.jist.io.ModelImageReaderWriter.readObject(ModelImageReaderWriter.java:84)\n\tat edu.jhu.ece.iacl.jist.io.ImageDataReaderWriter.readObject(ImageDataReaderWriter.java:90)\n\tat edu.jhu.ece.iacl.jist.io.ImageDataReaderWriter.readObject(ImageDataReaderWriter.java:34)\n\tat edu.jhu.ece.iacl.jist.io.FileReaderWriter.read(FileReaderWriter.java:69)\n\tat edu.jhu.ece.iacl.jist.pipeline.parameter.ParamVolume.getImageData(ParamVolume.java:480)\n\tat edu.jhu.ece.iacl.jist.pipeline.parameter.ParamVolume.getImageData(ParamVolume.java:469)\n\tat edu.jhu.ece.iacl.jist.cli.run.main(run.java:122)\nFAILED to Open Volume from Disk: /home/gdholla1/notebooks/outMasked.nii\njava.lang.NullPointerException\n\tat edu.jhu.ece.iacl.jist.structures.image.ImageDataMipav.createModelImage(ImageDataMipav.java:348)\n\tat edu.jhu.ece.iacl.jist.io.ImageDataReaderWriter.writeObject(ImageDataReaderWriter.java:281)\n\tat edu.jhu.ece.iacl.jist.io.ImageDataReaderWriter.writeObject(ImageDataReaderWriter.java:34)\n\tat edu.jhu.ece.iacl.jist.io.FileReaderWriter.write(FileReaderWriter.java:102)\n\tat edu.jhu.ece.iacl.jist.cli.run.main(run.java:122)\nReturn code: 255\nInterface JistBrainMp2rageSkullStripping failed to run. "
       ]
      }
     ],
     "prompt_number": 13
    },
    {
     "cell_type": "code",
     "collapsed": false,
     "input": [],
     "language": "python",
     "metadata": {},
     "outputs": []
    }
   ],
   "metadata": {}
  }
 ]
}